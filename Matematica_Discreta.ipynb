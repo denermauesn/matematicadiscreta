{
 "cells": [
  {
   "cell_type": "markdown",
   "metadata": {},
   "source": [
    "1. Noções de Lógica\n",
    "===================\n",
    "\n",
    "As regras da lógica especificam o significado de sentenças matemáticas.\n",
    "Propositalmente essas regras nos ajudam a entender proposições tais como\n",
    "\"Existe um inteiro que não é a soma de dois quadrados\", bem como\n",
    "raciocinar sobre elas. Lógica é a base de todo raciocinio matemático e\n",
    "de todo raciocinio automatizado.\n",
    "\n",
    "1.1 Lógica Proposicional\n",
    "------------------------\n",
    "\n",
    "As regras de lógica nos dão um significado preciso para sentenças\n",
    "matemáticas. Essas regras são usadas para distinguir entre argumentos\n",
    "matemáticos validos e inválidos.\n",
    "\n",
    "### 1.1.1 Proposições\n",
    "\n",
    "Uma proposição é uma sentença declarativa( isto é, uma sentença que\n",
    "declara um fato), que pode ser verdadeira ou falsa, mas não ambas."
   ]
  },
  {
   "cell_type": "code",
   "execution_count": 3,
   "metadata": {},
   "outputs": [
    {
     "data": {
      "text/plain": [
       "True"
      ]
     },
     "execution_count": 3,
     "metadata": {},
     "output_type": "execute_result"
    },
    {
     "data": {
      "text/plain": [
       "False"
      ]
     },
     "execution_count": 3,
     "metadata": {},
     "output_type": "execute_result"
    }
   ],
   "source": [
    "from IPython.core.interactiveshell import InteractiveShell\n",
    "InteractiveShell.ast_node_interactivity = \"all\"\n",
    "\n",
    "2 + 2 == 4\n",
    "\n",
    "len(\"Exemplo\") < 5\n",
    "\n",
    "\n"
   ]
  },
  {
   "cell_type": "markdown",
   "metadata": {},
   "source": [
    "\n",
    "A sentença 1 é uma proposição verdaderia e a 2 falsa. Jà a sentença 3\n",
    "não é uma proposição (depende do valor que venha a ser atribuído à\n",
    "variável y) sendo denominada função proposicional. Muitas sentenças\n",
    "matemáticas são constuídas combinando uma ou mais proposições. Novas\n",
    "proposições, chamadas de proposições compostas são criadas a partir de\n",
    "proposições existentes usando-se operadores lógicos\n",
    "\n",
    "> **Definição** : Seja p uma proposição. A negação de p, indicada por ¬p\n",
    "> é a sentença \"Não é o caso de p.\" A proposição ¬p é lida \"não p\". o\n",
    "> valor-verdade da negação de p, ¬p, é o oposto do valor-verdade de p.\n",
    "\n",
    "A negação de uma proposição pode tambem ser considerada o resultado da\n",
    "operação do **operador de negação** em uma proposição. O operador de\n",
    "negação constroi novas proposições a partir de proposições\n",
    "preexistentes."
   ]
  },
  {
   "cell_type": "code",
   "execution_count": 4,
   "metadata": {},
   "outputs": [
    {
     "data": {
      "text/plain": [
       "False"
      ]
     },
     "execution_count": 4,
     "metadata": {},
     "output_type": "execute_result"
    },
    {
     "data": {
      "text/plain": [
       "True"
      ]
     },
     "execution_count": 4,
     "metadata": {},
     "output_type": "execute_result"
    }
   ],
   "source": [
    "not True \n",
    "not False\n"
   ]
  },
  {
   "cell_type": "markdown",
   "metadata": {},
   "source": [
    "### 1.1.2. Conectivos Lógicos\n",
    "Os operadores lógicos tambem são chamados de conectivos.\n",
    "\n",
    ">  **Definição:** Sejam p e q proposições. A conjunção de p e q, indicada por \\(p \\land v\\), é a proposição \"p e q\". A conjunção \\(p \\land q\\) é verdadeira quando ambas são verdadeiras, e falsa caso contrario"
   ]
  },
  {
   "cell_type": "code",
   "execution_count": 5,
   "metadata": {},
   "outputs": [
    {
     "data": {
      "text/plain": [
       "True"
      ]
     },
     "execution_count": 5,
     "metadata": {},
     "output_type": "execute_result"
    },
    {
     "data": {
      "text/plain": [
       "False"
      ]
     },
     "execution_count": 5,
     "metadata": {},
     "output_type": "execute_result"
    },
    {
     "data": {
      "text/plain": [
       "False"
      ]
     },
     "execution_count": 5,
     "metadata": {},
     "output_type": "execute_result"
    },
    {
     "data": {
      "text/plain": [
       "True"
      ]
     },
     "execution_count": 5,
     "metadata": {},
     "output_type": "execute_result"
    }
   ],
   "source": [
    "True and True\n",
    "\n",
    "True and False\n",
    "\n",
    "False and False\n",
    "\n",
    "4 > 3 and 1 < 2"
   ]
  },
  {
   "cell_type": "markdown",
   "metadata": {},
   "source": [
    "O uso do conectivo ou em uma disjunção corresponde a uma das formas da palavra ou em portugues, chamado \"ou inclusivo\".\n",
    "Uma disjunção é verdadeira quando ao menos uma das proposições é verdadeira.\n",
    "\n",
    "\n",
    "> **Definição:** Sejam p e q proposições. A disjunção de p e q, indicada por p V q, é a proposição \"p ou q\". A disjunção p V q é falsa se p e q são ambas falsas, e verdadeira em qualquer outro caso"
   ]
  },
  {
   "cell_type": "code",
   "execution_count": 7,
   "metadata": {},
   "outputs": [
    {
     "data": {
      "text/plain": [
       "True"
      ]
     },
     "execution_count": 7,
     "metadata": {},
     "output_type": "execute_result"
    },
    {
     "data": {
      "text/plain": [
       "True"
      ]
     },
     "execution_count": 7,
     "metadata": {},
     "output_type": "execute_result"
    },
    {
     "data": {
      "text/plain": [
       "False"
      ]
     },
     "execution_count": 7,
     "metadata": {},
     "output_type": "execute_result"
    },
    {
     "data": {
      "text/plain": [
       "True"
      ]
     },
     "execution_count": 7,
     "metadata": {},
     "output_type": "execute_result"
    }
   ],
   "source": [
    "True or False\n",
    "\n",
    "True or True\n",
    "\n",
    "False or False\n",
    "\n",
    "5 > 1 or 1 < 0"
   ]
  },
  {
   "cell_type": "markdown",
   "metadata": {},
   "source": [
    "O uso do conectivo ou em uma disjunção corresponde a uma das formas da palavra ou usadas em português, denomidada forma inclusiva. Então, uma disjunção é verdadeira se uma das proposições é verdadeira. Ás vezes usamos ou da maneira exclusiva. Quando a maneira exlcusiva é usada para conectar as proposições p e q, a proposição \"p ou q (mas não ambas)\" é obtida. essa poposição é verdadeira, se apenas uma, das proposições é verdadeira, e falsa quando p e q são ambas falsas ou ambas verdadeiras\n",
    "\n",
    "\n",
    "> **Definição:** Sejam p e que proposições. A disjunção exclusiva ( ou ou exclusivo) de p e q, indicada por p \\oplus  q, é a proposição que é verdadeira quando exatamente uma das duas é verdadeira e falsa nos outros casos.\n"
   ]
  },
  {
   "cell_type": "code",
   "execution_count": 9,
   "metadata": {},
   "outputs": [
    {
     "name": "stdout",
     "output_type": "stream",
     "text": [
      "Olá\n"
     ]
    }
   ],
   "source": [
    "if True:\n",
    "    print(\"Olá\")\n",
    "\n",
    "if False:\n",
    "    print(\"boa noite\")"
   ]
  },
  {
   "cell_type": "markdown",
   "metadata": {},
   "source": [
    "**BICONDICIONAIS**  Vamos agora  introduzir uma  nova maneira  de combinar  proposições  que expressa que duas proposições têm o mesmo valor-verdade.\n",
    "\n",
    "\n",
    "> Sejam p e q proposiçoes. A proposição bicondicional p \\leftrightarrow q é a proposição “p se e somente se q \\leftrightarrow q  é  verdadeira  sempre  que  p  e q tem o mesmo valor-verdade, e falsa caso contrário. Bicondicionais são também chamadas de bi-implicações. \n"
   ]
  },
  {
   "cell_type": "code",
   "execution_count": 10,
   "metadata": {},
   "outputs": [
    {
     "data": {
      "text/plain": [
       "True"
      ]
     },
     "execution_count": 10,
     "metadata": {},
     "output_type": "execute_result"
    }
   ],
   "source": [
    "True == True "
   ]
  },
  {
   "cell_type": "markdown",
   "metadata": {},
   "source": [
    "1. Considere que p e qu são proposições\n",
    "    p : Eu comprei um bilhete de loteria esta semana.\n",
    "    q : Eu ganhei a bolada de um milhão de dolares na sexta feira.\n",
    "Expresse cada uma dessas proposições em uma sentença em portugues:\n",
    "\n",
    "- a. ¬p \n",
    "- b. p V q \n",
    "- c. p -> q \n",
    "- d. p ^ q \n",
    "- e. p <-> \n",
    "- f. ¬ p -> ¬ q \n",
    "- g. ¬p ^ ¬ q \n",
    "- h. ¬p V ( p ^ q)"
   ]
  },
  {
   "cell_type": "code",
   "execution_count": 11,
   "metadata": {},
   "outputs": [
    {
     "name": "stdout",
     "output_type": "stream",
     "text": [
      "Eu não comprei um bilhete de loteria esta semana\n",
      "Eu comprei um bilhete de loteria esta semana  ou  Eu ganhei a bolada de um milhão de dolares na sexta feira\n",
      "se  Eu comprei um bilhete de loteria esta semana entao Eu ganhei a bolada de um milhão de dolares na sexta feira\n",
      "Eu comprei um bilhete de loteria esta semana  e  Eu ganhei a bolada de um milhão de dolares na sexta feira\n",
      "Eu comprei um bilhete de loteria esta semana se e somente se Eu ganhei a bolada de um milhão de dolares na sexta feira\n",
      "se  Eu não comprei um bilhete de loteria esta semana entao Eu ganhei a bolada de um milhão de dolares na sexta feira\n",
      "Eu não comprei um bilhete de loteria esta semana  e  Eu ganhei a bolada de um milhão de dolares na sexta feira\n"
     ]
    }
   ],
   "source": [
    "nao = lambda p : p.F\n",
    "\n",
    "def conectivo(p,c,q):\n",
    "    if c == \"^\":\n",
    "        print(p , \" e \" , q)\n",
    "    if c == \"v\":\n",
    "        print(p , \" ou \" , q)\n",
    "    if c == \"->\":\n",
    "        print( \"se \" ,p , \"entao\", q)\n",
    "    if c == \"<->\":\n",
    "        print( p, \"se e somente se\", q)\n",
    "        \n",
    "    \n",
    "    \n",
    "class Prop(object):\n",
    "    def __init__(self, V, F):\n",
    "        self.V = V\n",
    "        self.F = F\n",
    "        \n",
    "    def __str__(self):\n",
    "        return self.V\n",
    "    \n",
    "        \n",
    "p = Prop(\"Eu comprei um bilhete de loteria esta semana\", \n",
    "         \"Eu não comprei um bilhete de loteria esta semana\")\n",
    "\n",
    "q = Prop(\"Eu ganhei a bolada de um milhão de dolares na sexta feira\",\n",
    "         \"Eu ganhei a bolada de um milhão de dolares na sexta feira\")\n",
    "\n",
    "\n",
    "print(\n",
    "    nao(p)\n",
    ")\n",
    "\n",
    "conectivo(\n",
    "    p, \"v\", q\n",
    ")\n",
    "conectivo(\n",
    "    p, \"->\", q\n",
    ")\n",
    "conectivo(\n",
    "    p, \"^\", q\n",
    ")\n",
    "conectivo(\n",
    "    p, \"<->\", q\n",
    ")\n",
    "conectivo(\n",
    "     nao(p), \"->\",  nao(q)\n",
    ")\n",
    "conectivo(\n",
    "     nao(p), \"^\", nao(q)\n",
    ")"
   ]
  },
  {
   "cell_type": "markdown",
   "metadata": {},
   "source": [
    "### 1.2 Equivalencias Proposicionais.\n",
    "Um importnte tipo de passo usado na argumentação matemática é a subistituição de uma proposição por outra com o mesmo valor-verdade. por esse motivo, metodos que produzem proposicções com o mesmo valor verdade que uma dada proposição composta são usados largamente na constrição de argumentos matemáticos.\n",
    "\n",
    "\n",
    "> Uma proposição composta que é sempre verdadeira, qualquer que sejam os valores-verdade das proposições que ocorrem nela, é chamada de tautologia. uma proposição composta que é sempre falsa, qualquer que seja o valor-verdade das proposições que a compçoes é chamada contradição. Uma proposição composta que não é nem tautologia nem contratidção é chamada contingencia\n",
    "\n",
    "### 1.3 Equivalencias lógicas\n",
    "\n",
    "Proposições compostas que tem o esmo valor-verdade em todos os possiveis casos são chamadas de logicamente equivalentes. podemos definir esta noção como:\n",
    "\n",
    "\n",
    "> As proposições compostas p e q são chamadas de logicamente equivalentes se p <-> q é uma tautologia. a notação p \\equiv q indica que pe e q são logicamente equivalentes\n",
    "\n",
    "\n",
    "mostre que ¬ (p V q e ¬ ¬p ^ q são logicamente equivalentes"
   ]
  },
  {
   "cell_type": "code",
   "execution_count": 12,
   "metadata": {},
   "outputs": [
    {
     "name": "stdout",
     "output_type": "stream",
     "text": [
      "¬ p V q :  False  | ¬ p ^ ¬ q :  False\n",
      "¬ p V q :  True  | ¬ p ^ ¬ q :  True\n",
      "¬ p V q :  True  | ¬ p ^ ¬ q :  True\n",
      "¬ p V q :  True  | ¬ p ^ ¬ q :  True\n"
     ]
    }
   ],
   "source": [
    "import itertools \n",
    "for p,q in itertools.product([True, False], repeat=2):\n",
    "    print(\"¬ p V q : \" , not (p and q), \" | ¬ p ^ ¬ q : \", not p or not q)"
   ]
  },
  {
   "cell_type": "markdown",
   "metadata": {},
   "source": [
    "### 1.2.2 Leis de Morgan\n",
    "As duas equivalencias lógicas conhecidas como leis de Morgan são particularmente importantes. Elas nos mostram como negar conjunções e como negar disjunções. Em particular a equivalencia ¬(p V q) \\equiv ¬p ^ ¬q nos diz que a negação de uma disjunção é formada tomando a conjunção das negações das proposições componentes. Similarmente, ¬(p ^q) \\equiv ¬p v ¬q nos diz que a negação de uma conjunção é formada tomando a disjunção das negações das proposições componentes.\n",
    "\n",
    "Exemplo: Use as leis de Morgan para expresssar as negações de \"Miguel tem um celular e um laptop\" e \"Rodrigo vai ao concerto ou Carlos vai ao concerto\""
   ]
  },
  {
   "cell_type": "code",
   "execution_count": 14,
   "metadata": {},
   "outputs": [
    {
     "name": "stdout",
     "output_type": "stream",
     "text": [
      "Miguel tem um celular   e  Miguel tem um Laptop \n",
      "Migule Não tem um Celular  ou  Miguel Não tem um Laptop\n"
     ]
    }
   ],
   "source": [
    "p = Prop(\"Miguel tem um celular \", \n",
    "         \"Migule Não tem um Celular\")\n",
    "\n",
    "q = Prop(\"Miguel tem um Laptop \", \n",
    "         \"Miguel Não tem um Laptop\")\n",
    "\n",
    "conectivo(\n",
    "    p , \"^\", q\n",
    ")\n",
    "\n",
    "#aplicação da Lei de Morgan\n",
    "conectivo(\n",
    "    nao(p) , \"v\", nao(q)\n",
    ")\n"
   ]
  },
  {
   "cell_type": "code",
   "execution_count": 15,
   "metadata": {},
   "outputs": [
    {
     "name": "stdout",
     "output_type": "stream",
     "text": [
      "Rodrigo vai ao concerto  ou  Carlos vai ao concerto\n",
      "Rodrigo Não vai ao concerto  e  Carlos Não vai ao concerto\n"
     ]
    }
   ],
   "source": [
    "p  = Prop(\"Rodrigo vai ao concerto\",\n",
    "          \"Rodrigo Não vai ao concerto\")\n",
    "\n",
    "q = Prop(\"Carlos vai ao concerto\",\n",
    "     \"Carlos Não vai ao concerto\")\n",
    "\n",
    "conectivo(\n",
    "    p, \"v\", q\n",
    ")\n",
    "#Lei de Morgan\n",
    "conectivo(\n",
    "    nao(p), \"^\", nao(q)\n",
    ")\n"
   ]
  },
  {
   "cell_type": "markdown",
   "metadata": {},
   "source": [
    "### 1.3 Predicados e quantificadores\n",
    "\n",
    "Predicados são sentenças que envolvem vaariáveis, tais como\n",
    "\n",
    "> \"X &gt; 3\", \"x = y + 3\", \"x + y = z\"\n",
    "\n",
    "> \"computador x está sob atague de um hacker\"\n",
    "\n",
    "São frequentemente encontradas na matemática, em progromas de computador\n",
    "e em sistemas de especificações. Essas declarações não são nem\n",
    "verdadeiras nem falsas quando o valor das variaveis não é especificado.\n",
    "\n",
    "A declaração, ou afirmação, é tambem chamada de o valor da função\n",
    "proposicional P emx. Uma vez que um valor é dado para a variavel x, a\n",
    "declaração P(x) torna-se uma proposição e tem um valor-verdade.\n",
    "Considere os exemplos:"
   ]
  },
  {
   "cell_type": "code",
   "execution_count": 17,
   "metadata": {},
   "outputs": [
    {
     "name": "stdout",
     "output_type": "stream",
     "text": [
      "False\n",
      "False\n",
      "False\n",
      "True\n"
     ]
    }
   ],
   "source": [
    "P = lambda x : x > 2\n",
    "\n",
    "for x in range(4):\n",
    "    print(P(x))"
   ]
  },
  {
   "cell_type": "markdown",
   "metadata": {},
   "source": [
    "Quando impomos ás variaveis de uma função proposicional algum valor, a\n",
    "declaração resultante torna-se uma proposição e tem valor-verdade. No\n",
    "entanto, existe uma outra maneira importante, chamada quantificação,\n",
    "para criar proposições a partir de funções proposicionais. A\n",
    "quantificação é um meio de dizer que um predicado é verdadeiro para um\n",
    "conjunto de elementos. Em portugrues, as palavras muitos, todos, alguns,\n",
    "nenhum e poucos são usados em quantificações.\n",
    "\n",
    "> A quantificação universal de P(x) é a afirmação \"P(x) é valida para\n",
    "> todos os calores de x do dominio\" A notação AxP(x) indica a\n",
    "> quantificação universal de P(x). Aqui A é chamado de quantificador\n",
    "> universal. Lemos AxP(x) como \" para todos xP(x). Um elemento para qual\n",
    "> P(x) é fala é chamado de contra-exemplo para AxP(x)\n",
    "\n",
    "Exemplo : Seja P(x) a declaração \"x + 1 &gt; x\". qual é o valor verdade\n",
    "da quantificação AxP(x), no dominio de todos os numeros reais?"
   ]
  },
  {
   "cell_type": "code",
   "execution_count": 18,
   "metadata": {},
   "outputs": [],
   "source": [
    "import random\n",
    "P = lambda x : x + 1 > x\n",
    "\n",
    "for x in range(10000000):\n",
    "    if P(random.random()):\n",
    "        pass\n",
    "    else:\n",
    "        print(\"falso\")\n"
   ]
  },
  {
   "cell_type": "markdown",
   "metadata": {},
   "source": [
    "Como P(x) é verdadeira para todo numero real x, a quantificação AxP(x) é verdadeira\n",
    "\n",
    "Exemplo: Seja P(x) a declaração \"x < 2\". Qual o valor verdade da quantificação AxQ(x), em que o dominio consite em todos os reais?\n"
   ]
  },
  {
   "cell_type": "code",
   "execution_count": 19,
   "metadata": {},
   "outputs": [
    {
     "name": "stdout",
     "output_type": "stream",
     "text": [
      "falso  2 > 2\n",
      "falso  3 > 2\n",
      "falso  4 > 2\n",
      "falso  5 > 2\n",
      "falso  6 > 2\n",
      "falso  7 > 2\n",
      "falso  8 > 2\n",
      "falso  9 > 2\n",
      "falso  10 > 2\n",
      "falso  11 > 2\n",
      "falso  12 > 2\n",
      "falso  13 > 2\n",
      "falso  14 > 2\n",
      "falso  15 > 2\n",
      "falso  16 > 2\n",
      "falso  17 > 2\n",
      "falso  18 > 2\n",
      "falso  19 > 2\n",
      "falso  20 > 2\n",
      "falso  21 > 2\n",
      "falso  22 > 2\n",
      "falso  23 > 2\n",
      "falso  24 > 2\n",
      "falso  25 > 2\n",
      "falso  26 > 2\n",
      "falso  27 > 2\n",
      "falso  28 > 2\n",
      "falso  29 > 2\n",
      "falso  30 > 2\n",
      "falso  31 > 2\n",
      "falso  32 > 2\n",
      "falso  33 > 2\n",
      "falso  34 > 2\n",
      "falso  35 > 2\n",
      "falso  36 > 2\n",
      "falso  37 > 2\n",
      "falso  38 > 2\n",
      "falso  39 > 2\n",
      "falso  40 > 2\n",
      "falso  41 > 2\n",
      "falso  42 > 2\n",
      "falso  43 > 2\n",
      "falso  44 > 2\n",
      "falso  45 > 2\n",
      "falso  46 > 2\n",
      "falso  47 > 2\n",
      "falso  48 > 2\n",
      "falso  49 > 2\n",
      "falso  50 > 2\n",
      "falso  51 > 2\n",
      "falso  52 > 2\n",
      "falso  53 > 2\n",
      "falso  54 > 2\n",
      "falso  55 > 2\n",
      "falso  56 > 2\n",
      "falso  57 > 2\n",
      "falso  58 > 2\n",
      "falso  59 > 2\n",
      "falso  60 > 2\n",
      "falso  61 > 2\n",
      "falso  62 > 2\n",
      "falso  63 > 2\n",
      "falso  64 > 2\n",
      "falso  65 > 2\n",
      "falso  66 > 2\n",
      "falso  67 > 2\n",
      "falso  68 > 2\n",
      "falso  69 > 2\n",
      "falso  70 > 2\n",
      "falso  71 > 2\n",
      "falso  72 > 2\n",
      "falso  73 > 2\n",
      "falso  74 > 2\n",
      "falso  75 > 2\n",
      "falso  76 > 2\n",
      "falso  77 > 2\n",
      "falso  78 > 2\n",
      "falso  79 > 2\n",
      "falso  80 > 2\n",
      "falso  81 > 2\n",
      "falso  82 > 2\n",
      "falso  83 > 2\n",
      "falso  84 > 2\n",
      "falso  85 > 2\n",
      "falso  86 > 2\n",
      "falso  87 > 2\n",
      "falso  88 > 2\n",
      "falso  89 > 2\n",
      "falso  90 > 2\n",
      "falso  91 > 2\n",
      "falso  92 > 2\n",
      "falso  93 > 2\n",
      "falso  94 > 2\n",
      "falso  95 > 2\n",
      "falso  96 > 2\n",
      "falso  97 > 2\n",
      "falso  98 > 2\n",
      "falso  99 > 2\n",
      "falso  100 > 2\n",
      "falso  101 > 2\n",
      "falso  102 > 2\n",
      "falso  103 > 2\n",
      "falso  104 > 2\n",
      "falso  105 > 2\n",
      "falso  106 > 2\n",
      "falso  107 > 2\n",
      "falso  108 > 2\n",
      "falso  109 > 2\n",
      "falso  110 > 2\n",
      "falso  111 > 2\n",
      "falso  112 > 2\n",
      "falso  113 > 2\n",
      "falso  114 > 2\n",
      "falso  115 > 2\n",
      "falso  116 > 2\n",
      "falso  117 > 2\n",
      "falso  118 > 2\n",
      "falso  119 > 2\n",
      "falso  120 > 2\n",
      "falso  121 > 2\n",
      "falso  122 > 2\n",
      "falso  123 > 2\n",
      "falso  124 > 2\n",
      "falso  125 > 2\n",
      "falso  126 > 2\n",
      "falso  127 > 2\n",
      "falso  128 > 2\n",
      "falso  129 > 2\n",
      "falso  130 > 2\n",
      "falso  131 > 2\n",
      "falso  132 > 2\n",
      "falso  133 > 2\n",
      "falso  134 > 2\n",
      "falso  135 > 2\n",
      "falso  136 > 2\n",
      "falso  137 > 2\n",
      "falso  138 > 2\n",
      "falso  139 > 2\n",
      "falso  140 > 2\n",
      "falso  141 > 2\n",
      "falso  142 > 2\n",
      "falso  143 > 2\n",
      "falso  144 > 2\n",
      "falso  145 > 2\n",
      "falso  146 > 2\n",
      "falso  147 > 2\n",
      "falso  148 > 2\n",
      "falso  149 > 2\n",
      "falso  150 > 2\n",
      "falso  151 > 2\n",
      "falso  152 > 2\n",
      "falso  153 > 2\n",
      "falso  154 > 2\n",
      "falso  155 > 2\n",
      "falso  156 > 2\n",
      "falso  157 > 2\n",
      "falso  158 > 2\n",
      "falso  159 > 2\n",
      "falso  160 > 2\n",
      "falso  161 > 2\n",
      "falso  162 > 2\n",
      "falso  163 > 2\n",
      "falso  164 > 2\n",
      "falso  165 > 2\n",
      "falso  166 > 2\n",
      "falso  167 > 2\n",
      "falso  168 > 2\n",
      "falso  169 > 2\n",
      "falso  170 > 2\n",
      "falso  171 > 2\n",
      "falso  172 > 2\n",
      "falso  173 > 2\n",
      "falso  174 > 2\n",
      "falso  175 > 2\n",
      "falso  176 > 2\n",
      "falso  177 > 2\n",
      "falso  178 > 2\n",
      "falso  179 > 2\n",
      "falso  180 > 2\n",
      "falso  181 > 2\n",
      "falso  182 > 2\n",
      "falso  183 > 2\n",
      "falso  184 > 2\n",
      "falso  185 > 2\n",
      "falso  186 > 2\n",
      "falso  187 > 2\n",
      "falso  188 > 2\n",
      "falso  189 > 2\n",
      "falso  190 > 2\n",
      "falso  191 > 2\n",
      "falso  192 > 2\n",
      "falso  193 > 2\n",
      "falso  194 > 2\n",
      "falso  195 > 2\n",
      "falso  196 > 2\n",
      "falso  197 > 2\n",
      "falso  198 > 2\n",
      "falso  199 > 2\n",
      "falso  200 > 2\n",
      "falso  201 > 2\n",
      "falso  202 > 2\n",
      "falso  203 > 2\n",
      "falso  204 > 2\n",
      "falso  205 > 2\n",
      "falso  206 > 2\n",
      "falso  207 > 2\n",
      "falso  208 > 2\n",
      "falso  209 > 2\n",
      "falso  210 > 2\n",
      "falso  211 > 2\n",
      "falso  212 > 2\n",
      "falso  213 > 2\n",
      "falso  214 > 2\n",
      "falso  215 > 2\n",
      "falso  216 > 2\n",
      "falso  217 > 2\n",
      "falso  218 > 2\n",
      "falso  219 > 2\n",
      "falso  220 > 2\n",
      "falso  221 > 2\n",
      "falso  222 > 2\n",
      "falso  223 > 2\n",
      "falso  224 > 2\n",
      "falso  225 > 2\n",
      "falso  226 > 2\n",
      "falso  227 > 2\n",
      "falso  228 > 2\n",
      "falso  229 > 2\n",
      "falso  230 > 2\n",
      "falso  231 > 2\n",
      "falso  232 > 2\n",
      "falso  233 > 2\n",
      "falso  234 > 2\n",
      "falso  235 > 2\n",
      "falso  236 > 2\n",
      "falso  237 > 2\n",
      "falso  238 > 2\n",
      "falso  239 > 2\n",
      "falso  240 > 2\n",
      "falso  241 > 2\n",
      "falso  242 > 2\n",
      "falso  243 > 2\n",
      "falso  244 > 2\n",
      "falso  245 > 2\n",
      "falso  246 > 2\n",
      "falso  247 > 2\n",
      "falso  248 > 2\n",
      "falso  249 > 2\n",
      "falso  250 > 2\n",
      "falso  251 > 2\n",
      "falso  252 > 2\n",
      "falso  253 > 2\n",
      "falso  254 > 2\n",
      "falso  255 > 2\n",
      "falso  256 > 2\n",
      "falso  257 > 2\n",
      "falso  258 > 2\n",
      "falso  259 > 2\n",
      "falso  260 > 2\n",
      "falso  261 > 2\n",
      "falso  262 > 2\n",
      "falso  263 > 2\n",
      "falso  264 > 2\n",
      "falso  265 > 2\n",
      "falso  266 > 2\n",
      "falso  267 > 2\n",
      "falso  268 > 2\n",
      "falso  269 > 2\n",
      "falso  270 > 2\n",
      "falso  271 > 2\n",
      "falso  272 > 2\n",
      "falso  273 > 2\n",
      "falso  274 > 2\n",
      "falso  275 > 2\n",
      "falso  276 > 2\n",
      "falso  277 > 2\n",
      "falso  278 > 2\n",
      "falso  279 > 2\n",
      "falso  280 > 2\n",
      "falso  281 > 2\n",
      "falso  282 > 2\n",
      "falso  283 > 2\n",
      "falso  284 > 2\n",
      "falso  285 > 2\n",
      "falso  286 > 2\n",
      "falso  287 > 2\n",
      "falso  288 > 2\n",
      "falso  289 > 2\n",
      "falso  290 > 2\n",
      "falso  291 > 2\n",
      "falso  292 > 2\n",
      "falso  293 > 2\n",
      "falso  294 > 2\n",
      "falso  295 > 2\n",
      "falso  296 > 2\n",
      "falso  297 > 2\n",
      "falso  298 > 2\n",
      "falso  299 > 2\n",
      "falso  300 > 2\n",
      "falso  301 > 2\n",
      "falso  302 > 2\n",
      "falso  303 > 2\n",
      "falso  304 > 2\n",
      "falso  305 > 2\n",
      "falso  306 > 2\n",
      "falso  307 > 2\n",
      "falso  308 > 2\n",
      "falso  309 > 2\n",
      "falso  310 > 2\n",
      "falso  311 > 2\n",
      "falso  312 > 2\n",
      "falso  313 > 2\n",
      "falso  314 > 2\n",
      "falso  315 > 2\n",
      "falso  316 > 2\n",
      "falso  317 > 2\n",
      "falso  318 > 2\n",
      "falso  319 > 2\n",
      "falso  320 > 2\n",
      "falso  321 > 2\n",
      "falso  322 > 2\n",
      "falso  323 > 2\n",
      "falso  324 > 2\n",
      "falso  325 > 2\n",
      "falso  326 > 2\n",
      "falso  327 > 2\n",
      "falso  328 > 2\n",
      "falso  329 > 2\n",
      "falso  330 > 2\n",
      "falso  331 > 2\n",
      "falso  332 > 2\n",
      "falso  333 > 2\n",
      "falso  334 > 2\n",
      "falso  335 > 2\n",
      "falso  336 > 2\n",
      "falso  337 > 2\n",
      "falso  338 > 2\n",
      "falso  339 > 2\n",
      "falso  340 > 2\n",
      "falso  341 > 2\n",
      "falso  342 > 2\n",
      "falso  343 > 2\n",
      "falso  344 > 2\n",
      "falso  345 > 2\n",
      "falso  346 > 2\n",
      "falso  347 > 2\n",
      "falso  348 > 2\n",
      "falso  349 > 2\n",
      "falso  350 > 2\n",
      "falso  351 > 2\n",
      "falso  352 > 2\n",
      "falso  353 > 2\n",
      "falso  354 > 2\n",
      "falso  355 > 2\n",
      "falso  356 > 2\n",
      "falso  357 > 2\n",
      "falso  358 > 2\n",
      "falso  359 > 2\n",
      "falso  360 > 2\n",
      "falso  361 > 2\n",
      "falso  362 > 2\n",
      "falso  363 > 2\n",
      "falso  364 > 2\n",
      "falso  365 > 2\n",
      "falso  366 > 2\n",
      "falso  367 > 2\n",
      "falso  368 > 2\n",
      "falso  369 > 2\n",
      "falso  370 > 2\n",
      "falso  371 > 2\n",
      "falso  372 > 2\n",
      "falso  373 > 2\n",
      "falso  374 > 2\n",
      "falso  375 > 2\n",
      "falso  376 > 2\n",
      "falso  377 > 2\n",
      "falso  378 > 2\n",
      "falso  379 > 2\n",
      "falso  380 > 2\n",
      "falso  381 > 2\n",
      "falso  382 > 2\n",
      "falso  383 > 2\n",
      "falso  384 > 2\n",
      "falso  385 > 2\n",
      "falso  386 > 2\n",
      "falso  387 > 2\n",
      "falso  388 > 2\n",
      "falso  389 > 2\n",
      "falso  390 > 2\n",
      "falso  391 > 2\n",
      "falso  392 > 2\n",
      "falso  393 > 2\n",
      "falso  394 > 2\n",
      "falso  395 > 2\n",
      "falso  396 > 2\n",
      "falso  397 > 2\n",
      "falso  398 > 2\n",
      "falso  399 > 2\n",
      "falso  400 > 2\n",
      "falso  401 > 2\n",
      "falso  402 > 2\n",
      "falso  403 > 2\n",
      "falso  404 > 2\n",
      "falso  405 > 2\n",
      "falso  406 > 2\n",
      "falso  407 > 2\n",
      "falso  408 > 2\n",
      "falso  409 > 2\n",
      "falso  410 > 2\n",
      "falso  411 > 2\n",
      "falso  412 > 2\n",
      "falso  413 > 2\n",
      "falso  414 > 2\n",
      "falso  415 > 2\n",
      "falso  416 > 2\n",
      "falso  417 > 2\n",
      "falso  418 > 2\n",
      "falso  419 > 2\n",
      "falso  420 > 2\n",
      "falso  421 > 2\n",
      "falso  422 > 2\n",
      "falso  423 > 2\n",
      "falso  424 > 2\n",
      "falso  425 > 2\n",
      "falso  426 > 2\n",
      "falso  427 > 2\n",
      "falso  428 > 2\n",
      "falso  429 > 2\n",
      "falso  430 > 2\n",
      "falso  431 > 2\n",
      "falso  432 > 2\n",
      "falso  433 > 2\n",
      "falso  434 > 2\n",
      "falso  435 > 2\n",
      "falso  436 > 2\n",
      "falso  437 > 2\n",
      "falso  438 > 2\n",
      "falso  439 > 2\n",
      "falso  440 > 2\n",
      "falso  441 > 2\n",
      "falso  442 > 2\n",
      "falso  443 > 2\n",
      "falso  444 > 2\n",
      "falso  445 > 2\n",
      "falso  446 > 2\n",
      "falso  447 > 2\n",
      "falso  448 > 2\n",
      "falso  449 > 2\n",
      "falso  450 > 2\n",
      "falso  451 > 2\n",
      "falso  452 > 2\n",
      "falso  453 > 2\n",
      "falso  454 > 2\n",
      "falso  455 > 2\n",
      "falso  456 > 2\n",
      "falso  457 > 2\n",
      "falso  458 > 2\n",
      "falso  459 > 2\n",
      "falso  460 > 2\n",
      "falso  461 > 2\n",
      "falso  462 > 2\n",
      "falso  463 > 2\n",
      "falso  464 > 2\n",
      "falso  465 > 2\n",
      "falso  466 > 2\n",
      "falso  467 > 2\n",
      "falso  468 > 2\n",
      "falso  469 > 2\n",
      "falso  470 > 2\n",
      "falso  471 > 2\n",
      "falso  472 > 2\n",
      "falso  473 > 2\n",
      "falso  474 > 2\n",
      "falso  475 > 2\n",
      "falso  476 > 2\n",
      "falso  477 > 2\n",
      "falso  478 > 2\n",
      "falso  479 > 2\n",
      "falso  480 > 2\n",
      "falso  481 > 2\n",
      "falso  482 > 2\n",
      "falso  483 > 2\n",
      "falso  484 > 2\n",
      "falso  485 > 2\n",
      "falso  486 > 2\n",
      "falso  487 > 2\n",
      "falso  488 > 2\n",
      "falso  489 > 2\n",
      "falso  490 > 2\n",
      "falso  491 > 2\n",
      "falso  492 > 2\n",
      "falso  493 > 2\n",
      "falso  494 > 2\n",
      "falso  495 > 2\n",
      "falso  496 > 2\n",
      "falso  497 > 2\n",
      "falso  498 > 2\n",
      "falso  499 > 2\n",
      "falso  500 > 2\n",
      "falso  501 > 2\n",
      "falso  502 > 2\n",
      "falso  503 > 2\n",
      "falso  504 > 2\n",
      "falso  505 > 2\n",
      "falso  506 > 2\n",
      "falso  507 > 2\n",
      "falso  508 > 2\n",
      "falso  509 > 2\n",
      "falso  510 > 2\n",
      "falso  511 > 2\n",
      "falso  512 > 2\n",
      "falso  513 > 2\n",
      "falso  514 > 2\n",
      "falso  515 > 2\n",
      "falso  516 > 2\n",
      "falso  517 > 2\n",
      "falso  518 > 2\n",
      "falso  519 > 2\n",
      "falso  520 > 2\n",
      "falso  521 > 2\n",
      "falso  522 > 2\n",
      "falso  523 > 2\n",
      "falso  524 > 2\n",
      "falso  525 > 2\n",
      "falso  526 > 2\n",
      "falso  527 > 2\n",
      "falso  528 > 2\n",
      "falso  529 > 2\n",
      "falso  530 > 2\n",
      "falso  531 > 2\n",
      "falso  532 > 2\n",
      "falso  533 > 2\n",
      "falso  534 > 2\n",
      "falso  535 > 2\n",
      "falso  536 > 2\n",
      "falso  537 > 2\n",
      "falso  538 > 2\n",
      "falso  539 > 2\n",
      "falso  540 > 2\n",
      "falso  541 > 2\n",
      "falso  542 > 2\n",
      "falso  543 > 2\n",
      "falso  544 > 2\n",
      "falso  545 > 2\n",
      "falso  546 > 2\n",
      "falso  547 > 2\n",
      "falso  548 > 2\n",
      "falso  549 > 2\n",
      "falso  550 > 2\n",
      "falso  551 > 2\n",
      "falso  552 > 2\n",
      "falso  553 > 2\n",
      "falso  554 > 2\n",
      "falso  555 > 2\n",
      "falso  556 > 2\n",
      "falso  557 > 2\n",
      "falso  558 > 2\n",
      "falso  559 > 2\n",
      "falso  560 > 2\n",
      "falso  561 > 2\n",
      "falso  562 > 2\n",
      "falso  563 > 2\n",
      "falso  564 > 2\n",
      "falso  565 > 2\n",
      "falso  566 > 2\n",
      "falso  567 > 2\n",
      "falso  568 > 2\n",
      "falso  569 > 2\n",
      "falso  570 > 2\n",
      "falso  571 > 2\n",
      "falso  572 > 2\n",
      "falso  573 > 2\n",
      "falso  574 > 2\n",
      "falso  575 > 2\n",
      "falso  576 > 2\n",
      "falso  577 > 2\n",
      "falso  578 > 2\n",
      "falso  579 > 2\n",
      "falso  580 > 2\n",
      "falso  581 > 2\n",
      "falso  582 > 2\n",
      "falso  583 > 2\n",
      "falso  584 > 2\n",
      "falso  585 > 2\n",
      "falso  586 > 2\n",
      "falso  587 > 2\n",
      "falso  588 > 2\n",
      "falso  589 > 2\n",
      "falso  590 > 2\n",
      "falso  591 > 2\n",
      "falso  592 > 2\n",
      "falso  593 > 2\n",
      "falso  594 > 2\n",
      "falso  595 > 2\n",
      "falso  596 > 2\n",
      "falso  597 > 2\n",
      "falso  598 > 2\n",
      "falso  599 > 2\n",
      "falso  600 > 2\n",
      "falso  601 > 2\n",
      "falso  602 > 2\n",
      "falso  603 > 2\n",
      "falso  604 > 2\n",
      "falso  605 > 2\n",
      "falso  606 > 2\n",
      "falso  607 > 2\n",
      "falso  608 > 2\n",
      "falso  609 > 2\n",
      "falso  610 > 2\n",
      "falso  611 > 2\n",
      "falso  612 > 2\n",
      "falso  613 > 2\n",
      "falso  614 > 2\n",
      "falso  615 > 2\n",
      "falso  616 > 2\n",
      "falso  617 > 2\n",
      "falso  618 > 2\n",
      "falso  619 > 2\n",
      "falso  620 > 2\n",
      "falso  621 > 2\n",
      "falso  622 > 2\n",
      "falso  623 > 2\n",
      "falso  624 > 2\n",
      "falso  625 > 2\n",
      "falso  626 > 2\n",
      "falso  627 > 2\n",
      "falso  628 > 2\n",
      "falso  629 > 2\n",
      "falso  630 > 2\n",
      "falso  631 > 2\n",
      "falso  632 > 2\n",
      "falso  633 > 2\n",
      "falso  634 > 2\n",
      "falso  635 > 2\n",
      "falso  636 > 2\n",
      "falso  637 > 2\n",
      "falso  638 > 2\n",
      "falso  639 > 2\n",
      "falso  640 > 2\n",
      "falso  641 > 2\n",
      "falso  642 > 2\n",
      "falso  643 > 2\n",
      "falso  644 > 2\n",
      "falso  645 > 2\n",
      "falso  646 > 2\n",
      "falso  647 > 2\n",
      "falso  648 > 2\n",
      "falso  649 > 2\n",
      "falso  650 > 2\n",
      "falso  651 > 2\n",
      "falso  652 > 2\n",
      "falso  653 > 2\n",
      "falso  654 > 2\n",
      "falso  655 > 2\n",
      "falso  656 > 2\n",
      "falso  657 > 2\n",
      "falso  658 > 2\n",
      "falso  659 > 2\n",
      "falso  660 > 2\n",
      "falso  661 > 2\n",
      "falso  662 > 2\n",
      "falso  663 > 2\n",
      "falso  664 > 2\n",
      "falso  665 > 2\n",
      "falso  666 > 2\n",
      "falso  667 > 2\n",
      "falso  668 > 2\n",
      "falso  669 > 2\n",
      "falso  670 > 2\n",
      "falso  671 > 2\n",
      "falso  672 > 2\n",
      "falso  673 > 2\n",
      "falso  674 > 2\n",
      "falso  675 > 2\n",
      "falso  676 > 2\n",
      "falso  677 > 2\n",
      "falso  678 > 2\n",
      "falso  679 > 2\n",
      "falso  680 > 2\n",
      "falso  681 > 2\n",
      "falso  682 > 2\n",
      "falso  683 > 2\n",
      "falso  684 > 2\n",
      "falso  685 > 2\n",
      "falso  686 > 2\n",
      "falso  687 > 2\n",
      "falso  688 > 2\n",
      "falso  689 > 2\n",
      "falso  690 > 2\n",
      "falso  691 > 2\n",
      "falso  692 > 2\n",
      "falso  693 > 2\n",
      "falso  694 > 2\n",
      "falso  695 > 2\n"
     ]
    },
    {
     "name": "stdout",
     "output_type": "stream",
     "text": [
      "falso  696 > 2\n",
      "falso  697 > 2\n",
      "falso  698 > 2\n",
      "falso  699 > 2\n",
      "falso  700 > 2\n",
      "falso  701 > 2\n",
      "falso  702 > 2\n",
      "falso  703 > 2\n",
      "falso  704 > 2\n",
      "falso  705 > 2\n",
      "falso  706 > 2\n",
      "falso  707 > 2\n",
      "falso  708 > 2\n",
      "falso  709 > 2\n",
      "falso  710 > 2\n",
      "falso  711 > 2\n",
      "falso  712 > 2\n",
      "falso  713 > 2\n",
      "falso  714 > 2\n",
      "falso  715 > 2\n",
      "falso  716 > 2\n",
      "falso  717 > 2\n",
      "falso  718 > 2\n",
      "falso  719 > 2\n",
      "falso  720 > 2\n",
      "falso  721 > 2\n",
      "falso  722 > 2\n",
      "falso  723 > 2\n",
      "falso  724 > 2\n",
      "falso  725 > 2\n",
      "falso  726 > 2\n",
      "falso  727 > 2\n",
      "falso  728 > 2\n",
      "falso  729 > 2\n",
      "falso  730 > 2\n",
      "falso  731 > 2\n",
      "falso  732 > 2\n",
      "falso  733 > 2\n",
      "falso  734 > 2\n",
      "falso  735 > 2\n",
      "falso  736 > 2\n",
      "falso  737 > 2\n",
      "falso  738 > 2\n",
      "falso  739 > 2\n",
      "falso  740 > 2\n",
      "falso  741 > 2\n",
      "falso  742 > 2\n",
      "falso  743 > 2\n",
      "falso  744 > 2\n",
      "falso  745 > 2\n",
      "falso  746 > 2\n",
      "falso  747 > 2\n",
      "falso  748 > 2\n",
      "falso  749 > 2\n",
      "falso  750 > 2\n",
      "falso  751 > 2\n",
      "falso  752 > 2\n",
      "falso  753 > 2\n",
      "falso  754 > 2\n",
      "falso  755 > 2\n",
      "falso  756 > 2\n",
      "falso  757 > 2\n",
      "falso  758 > 2\n",
      "falso  759 > 2\n",
      "falso  760 > 2\n",
      "falso  761 > 2\n",
      "falso  762 > 2\n",
      "falso  763 > 2\n",
      "falso  764 > 2\n",
      "falso  765 > 2\n",
      "falso  766 > 2\n",
      "falso  767 > 2\n",
      "falso  768 > 2\n",
      "falso  769 > 2\n",
      "falso  770 > 2\n",
      "falso  771 > 2\n",
      "falso  772 > 2\n",
      "falso  773 > 2\n",
      "falso  774 > 2\n",
      "falso  775 > 2\n",
      "falso  776 > 2\n",
      "falso  777 > 2\n",
      "falso  778 > 2\n",
      "falso  779 > 2\n",
      "falso  780 > 2\n",
      "falso  781 > 2\n",
      "falso  782 > 2\n",
      "falso  783 > 2\n",
      "falso  784 > 2\n",
      "falso  785 > 2\n",
      "falso  786 > 2\n",
      "falso  787 > 2\n",
      "falso  788 > 2\n",
      "falso  789 > 2\n",
      "falso  790 > 2\n",
      "falso  791 > 2\n",
      "falso  792 > 2\n",
      "falso  793 > 2\n",
      "falso  794 > 2\n",
      "falso  795 > 2\n",
      "falso  796 > 2\n",
      "falso  797 > 2\n",
      "falso  798 > 2\n",
      "falso  799 > 2\n",
      "falso  800 > 2\n",
      "falso  801 > 2\n",
      "falso  802 > 2\n",
      "falso  803 > 2\n",
      "falso  804 > 2\n",
      "falso  805 > 2\n",
      "falso  806 > 2\n",
      "falso  807 > 2\n",
      "falso  808 > 2\n",
      "falso  809 > 2\n",
      "falso  810 > 2\n",
      "falso  811 > 2\n",
      "falso  812 > 2\n",
      "falso  813 > 2\n",
      "falso  814 > 2\n",
      "falso  815 > 2\n",
      "falso  816 > 2\n",
      "falso  817 > 2\n",
      "falso  818 > 2\n",
      "falso  819 > 2\n",
      "falso  820 > 2\n",
      "falso  821 > 2\n",
      "falso  822 > 2\n",
      "falso  823 > 2\n",
      "falso  824 > 2\n",
      "falso  825 > 2\n",
      "falso  826 > 2\n",
      "falso  827 > 2\n",
      "falso  828 > 2\n",
      "falso  829 > 2\n",
      "falso  830 > 2\n",
      "falso  831 > 2\n",
      "falso  832 > 2\n",
      "falso  833 > 2\n",
      "falso  834 > 2\n",
      "falso  835 > 2\n",
      "falso  836 > 2\n",
      "falso  837 > 2\n",
      "falso  838 > 2\n",
      "falso  839 > 2\n",
      "falso  840 > 2\n",
      "falso  841 > 2\n",
      "falso  842 > 2\n",
      "falso  843 > 2\n",
      "falso  844 > 2\n",
      "falso  845 > 2\n",
      "falso  846 > 2\n",
      "falso  847 > 2\n",
      "falso  848 > 2\n",
      "falso  849 > 2\n",
      "falso  850 > 2\n",
      "falso  851 > 2\n",
      "falso  852 > 2\n",
      "falso  853 > 2\n",
      "falso  854 > 2\n",
      "falso  855 > 2\n",
      "falso  856 > 2\n",
      "falso  857 > 2\n",
      "falso  858 > 2\n",
      "falso  859 > 2\n",
      "falso  860 > 2\n",
      "falso  861 > 2\n",
      "falso  862 > 2\n",
      "falso  863 > 2\n",
      "falso  864 > 2\n",
      "falso  865 > 2\n",
      "falso  866 > 2\n",
      "falso  867 > 2\n",
      "falso  868 > 2\n",
      "falso  869 > 2\n",
      "falso  870 > 2\n",
      "falso  871 > 2\n",
      "falso  872 > 2\n",
      "falso  873 > 2\n",
      "falso  874 > 2\n",
      "falso  875 > 2\n",
      "falso  876 > 2\n",
      "falso  877 > 2\n",
      "falso  878 > 2\n",
      "falso  879 > 2\n",
      "falso  880 > 2\n",
      "falso  881 > 2\n",
      "falso  882 > 2\n",
      "falso  883 > 2\n",
      "falso  884 > 2\n",
      "falso  885 > 2\n",
      "falso  886 > 2\n",
      "falso  887 > 2\n",
      "falso  888 > 2\n",
      "falso  889 > 2\n",
      "falso  890 > 2\n",
      "falso  891 > 2\n",
      "falso  892 > 2\n",
      "falso  893 > 2\n",
      "falso  894 > 2\n",
      "falso  895 > 2\n",
      "falso  896 > 2\n",
      "falso  897 > 2\n",
      "falso  898 > 2\n",
      "falso  899 > 2\n",
      "falso  900 > 2\n",
      "falso  901 > 2\n",
      "falso  902 > 2\n",
      "falso  903 > 2\n",
      "falso  904 > 2\n",
      "falso  905 > 2\n",
      "falso  906 > 2\n",
      "falso  907 > 2\n",
      "falso  908 > 2\n",
      "falso  909 > 2\n",
      "falso  910 > 2\n",
      "falso  911 > 2\n",
      "falso  912 > 2\n",
      "falso  913 > 2\n",
      "falso  914 > 2\n",
      "falso  915 > 2\n",
      "falso  916 > 2\n",
      "falso  917 > 2\n",
      "falso  918 > 2\n",
      "falso  919 > 2\n",
      "falso  920 > 2\n",
      "falso  921 > 2\n",
      "falso  922 > 2\n",
      "falso  923 > 2\n",
      "falso  924 > 2\n",
      "falso  925 > 2\n",
      "falso  926 > 2\n",
      "falso  927 > 2\n",
      "falso  928 > 2\n",
      "falso  929 > 2\n",
      "falso  930 > 2\n",
      "falso  931 > 2\n",
      "falso  932 > 2\n",
      "falso  933 > 2\n",
      "falso  934 > 2\n",
      "falso  935 > 2\n",
      "falso  936 > 2\n",
      "falso  937 > 2\n",
      "falso  938 > 2\n",
      "falso  939 > 2\n",
      "falso  940 > 2\n",
      "falso  941 > 2\n",
      "falso  942 > 2\n",
      "falso  943 > 2\n",
      "falso  944 > 2\n",
      "falso  945 > 2\n",
      "falso  946 > 2\n",
      "falso  947 > 2\n",
      "falso  948 > 2\n",
      "falso  949 > 2\n",
      "falso  950 > 2\n",
      "falso  951 > 2\n",
      "falso  952 > 2\n",
      "falso  953 > 2\n",
      "falso  954 > 2\n",
      "falso  955 > 2\n",
      "falso  956 > 2\n",
      "falso  957 > 2\n",
      "falso  958 > 2\n",
      "falso  959 > 2\n",
      "falso  960 > 2\n",
      "falso  961 > 2\n",
      "falso  962 > 2\n",
      "falso  963 > 2\n",
      "falso  964 > 2\n",
      "falso  965 > 2\n",
      "falso  966 > 2\n",
      "falso  967 > 2\n",
      "falso  968 > 2\n",
      "falso  969 > 2\n",
      "falso  970 > 2\n",
      "falso  971 > 2\n",
      "falso  972 > 2\n",
      "falso  973 > 2\n",
      "falso  974 > 2\n",
      "falso  975 > 2\n",
      "falso  976 > 2\n",
      "falso  977 > 2\n",
      "falso  978 > 2\n",
      "falso  979 > 2\n",
      "falso  980 > 2\n",
      "falso  981 > 2\n",
      "falso  982 > 2\n",
      "falso  983 > 2\n",
      "falso  984 > 2\n",
      "falso  985 > 2\n",
      "falso  986 > 2\n",
      "falso  987 > 2\n",
      "falso  988 > 2\n",
      "falso  989 > 2\n",
      "falso  990 > 2\n",
      "falso  991 > 2\n",
      "falso  992 > 2\n",
      "falso  993 > 2\n",
      "falso  994 > 2\n",
      "falso  995 > 2\n",
      "falso  996 > 2\n",
      "falso  997 > 2\n",
      "falso  998 > 2\n",
      "falso  999 > 2\n"
     ]
    }
   ],
   "source": [
    "import random\n",
    "P = lambda x : x < 2\n",
    "\n",
    "for x in range(1000):\n",
    "    if P(x):\n",
    "        pass\n",
    "    else:\n",
    "        print(\"falso \", x, \">\", 2 )\n"
   ]
  },
  {
   "cell_type": "markdown",
   "metadata": {},
   "source": [
    "P(x) não é verdadeira para todo numero real x, porque por exemplom P(3) é falsa. logo AxP(x) é falsa"
   ]
  },
  {
   "cell_type": "markdown",
   "metadata": {},
   "source": [
    "### 1.4 Regras de inferencias\n",
    "\n",
    "Demonstrações em matemática são argumentos válidos que estabelecem a\n",
    "veracidade das sentenças matemáticas. Por um argumento, entendemos uma\n",
    "sequencia de sentenças que terminam com uma conclusão e, por válido, que\n",
    "uma conclusão, ou a sentença final do argumento, deve seguir o\n",
    "valor-verdade das sentenças precedentes, ou premissas, do argumento. Ou\n",
    "seja, um arqumento óe valido se e somente se for impossivel que todas as\n",
    "premissas sejam verdadeiras e a conclusão seja falsa.\n",
    "\n",
    "> **Definição:** Um argumento em lógica proposicional é uma sequencia de\n",
    "> proposições. Todas, menos a ultima das proposições, são chamadas de\n",
    "> premissas, e a ultima é chamada conclusão. Um arqumento é valido se a\n",
    "> veracidade das premissas implica que a conclusão seja verdadeira. Uma\n",
    "> forma de argumento em logica proposicional é a sequencia de\n",
    "> proposições compostas que envolvem variáveis proposicionais. Uma forma\n",
    "> de argumento é valida quaisquer que sejam as proposições substituídas\n",
    "> nas variaveis proposicionais em suas sentenças; a conclusão é\n",
    "> verdadeira se as premissas forem todas verdadeiras\n",
    "\n",
    "Exemplo :"
   ]
  },
  {
   "cell_type": "code",
   "execution_count": 21,
   "metadata": {},
   "outputs": [
    {
     "name": "stdout",
     "output_type": "stream",
     "text": [
      "11 é primo\n"
     ]
    }
   ],
   "source": [
    "p = 11\n",
    "if p % 2 != 0:\n",
    "    if p % 3 != 0:\n",
    "        if p % 5 != 0:\n",
    "            print(p, \"é primo\")"
   ]
  },
  {
   "cell_type": "code",
   "execution_count": 22,
   "metadata": {},
   "outputs": [
    {
     "name": "stdout",
     "output_type": "stream",
     "text": [
      "11 é primo\n"
     ]
    }
   ],
   "source": [
    "p = 11\n",
    "if (p % 2 != 0) and (p % 3 != 0) and (p % 5 != 0):\n",
    "    print(p, \"é primo\")\n",
    "            "
   ]
  },
  {
   "cell_type": "markdown",
   "metadata": {},
   "source": [
    "## 2. Estruturas básicas\n",
    "Grande parte da matematica discreta é voltada para o estudo das estruturas discretas, usadas para representar objetos discretos. Muitas estruturas importantes foram construidas usando conjuntos, que são coleções de objetos. O conceito de função é extremamente importante em matemática discreta. Uma função determina, para cada elemento de um conjunto, exatamente um elemento de um conjunto.\n",
    "## 2.1 Conjuntos\n",
    "Os conjuntos são usados para agrupar objetos. Geralmente os objetos de um conjunto tem propriedades semelhantes\n",
    "\n",
    "> **Definição:** Um conjunto é uma coleção não ordenada de objetos.\n",
    "\n",
    "> Objetos no conjunto são chamados de elementos, ou membros do conjunto. Diz-se que os elementos pertencem ao conjunto\n",
    "\n",
    "> Dois conjuntos são iguais se e somente se eles tem os mesmos elementos. Ou seja, se  A e B são conjuntos, então A e B são iguais se e somente se Ax(x E A <> x E b) escrevemos A= b se A e B forem conjuntos iguais\n",
    "\n",
    "Os conjuntos { 1, 3, 5} e {3, 5, 1} são iguais porque eles tem os mesmos elementos. Note que a ordem dos elementos não é relevante, e tambem não é relevante se um elemento é listado mais de uma vez"
   ]
  },
  {
   "cell_type": "code",
   "execution_count": 23,
   "metadata": {},
   "outputs": [
    {
     "data": {
      "text/plain": [
       "True"
      ]
     },
     "execution_count": 23,
     "metadata": {},
     "output_type": "execute_result"
    }
   ],
   "source": [
    "def compare_array(arr1, arr2):\n",
    "    e1 = [x in arr1 for x in arr2]\n",
    "    e2 = [x in arr2 for x in arr1]\n",
    "    if not(False in e1) and not(False in e2):\n",
    "        return True\n",
    "    else:\n",
    "        return False\n",
    "    \n",
    "A = [1, 3, 5]\n",
    "B = [3, 1, 5, 1]\n",
    "\n",
    "compare_array(A, B)"
   ]
  },
  {
   "cell_type": "markdown",
   "metadata": {},
   "source": [
    "> **Definição:** O conjunto A é um subconjunto de B se e seomente se todo elemento de A for tambem um elemento de B. \n"
   ]
  },
  {
   "cell_type": "code",
   "execution_count": 24,
   "metadata": {},
   "outputs": [
    {
     "data": {
      "text/plain": [
       "True"
      ]
     },
     "execution_count": 24,
     "metadata": {},
     "output_type": "execute_result"
    }
   ],
   "source": [
    "sub_conjunto = lambda arr1, arr2 : not False in [x in arr2 for x in arr1]\n",
    "\n",
    "A = [5, 3, 5]\n",
    "B = [3, 1, 5, 9]\n",
    "\n",
    "sub_conjunto(A, B)"
   ]
  },
  {
   "cell_type": "markdown",
   "metadata": {},
   "source": [
    "Todo conjunto não vazio S tem pelo menos 2 subconjuntos, o conjunto vazio e o próprio conjunto S."
   ]
  },
  {
   "cell_type": "code",
   "execution_count": 25,
   "metadata": {},
   "outputs": [
    {
     "data": {
      "text/plain": [
       "True"
      ]
     },
     "execution_count": 25,
     "metadata": {},
     "output_type": "execute_result"
    },
    {
     "data": {
      "text/plain": [
       "True"
      ]
     },
     "execution_count": 25,
     "metadata": {},
     "output_type": "execute_result"
    }
   ],
   "source": [
    "S = [9]\n",
    "sub_conjunto([], S)\n",
    "sub_conjunto(S,S)"
   ]
  },
  {
   "cell_type": "markdown",
   "metadata": {},
   "source": [
    "> Considere S como um conjunto. Se há exatamente n elementos distintos em S, em que n é um numero inteiro nao negativo, dizemos que S é um conjunto finito e que n é cardinal de S. o cardinal de S é indicado por |S|."
   ]
  },
  {
   "cell_type": "code",
   "execution_count": 26,
   "metadata": {},
   "outputs": [
    {
     "data": {
      "text/plain": [
       "6"
      ]
     },
     "execution_count": 26,
     "metadata": {},
     "output_type": "execute_result"
    },
    {
     "data": {
      "text/plain": [
       "2"
      ]
     },
     "execution_count": 26,
     "metadata": {},
     "output_type": "execute_result"
    }
   ],
   "source": [
    "def cardinal(arr):\n",
    "    c = []\n",
    "    for e in arr:\n",
    "        if e not in c:\n",
    "            c.append(e)\n",
    "    \n",
    "    return len(c)\n",
    "\n",
    "S = [0,1,2,3,4,5]\n",
    "\n",
    "cardinal(S)\n",
    "\n",
    "S = [0,1,0,1,1,0,0]\n",
    "\n",
    "cardinal(S)"
   ]
  },
  {
   "cell_type": "markdown",
   "metadata": {},
   "source": [
    "> **Definição:** Dado um conjunto S, o conjunto das partes de S é o conjunto de todos os subconjuntos do conjunto S. o conjunto de partes de S é indicado por P(S)\n"
   ]
  },
  {
   "cell_type": "code",
   "execution_count": 27,
   "metadata": {},
   "outputs": [
    {
     "data": {
      "text/plain": [
       "[[], [0], [1], [2], [0, 1], [0, 2], [1, 2], [0, 1, 2]]"
      ]
     },
     "execution_count": 27,
     "metadata": {},
     "output_type": "execute_result"
    }
   ],
   "source": [
    "from itertools import combinations\n",
    "def conjunto_das_partes(arr):\n",
    "    x = []\n",
    "    for i in range(len(arr) + 1):\n",
    "        for e in combinations( arr , i):\n",
    "            if list(e) not in x:\n",
    "                x.append(list(e))\n",
    "    return x\n",
    "\n",
    "conjunto_das_partes([0,1, 2])"
   ]
  },
  {
   "cell_type": "markdown",
   "metadata": {},
   "source": [
    "### Produto cartesiano\n",
    "Frequentemente, a ordem dos elementos em uma coleção é importante. Como os conjuntos não são ordenados, é necessária uma estrutura diferente para representar coleções ordenadas. Isso é determinado pela n-upla ordenada\n",
    "> **Definição** : A n-upla ordenada (a1,a2, ..., an) é a coleção ordenada que tem a1 como seu primeiro elemento, a2 como segundo, ... e a n como seu n-ésimo elemento.\n",
    "\n",
    "Dizemos que n-uplas ordenadas são iguais se e somente se cada par correspondete de seus elementos é igual, em outras palavras, (a1,a2,a3) == (b1,b2,b3) se e se somente se ai = b1, para i = 1,2, ... n"
   ]
  },
  {
   "cell_type": "code",
   "execution_count": 28,
   "metadata": {},
   "outputs": [
    {
     "data": {
      "text/plain": [
       "True"
      ]
     },
     "execution_count": 28,
     "metadata": {},
     "output_type": "execute_result"
    },
    {
     "data": {
      "text/plain": [
       "False"
      ]
     },
     "execution_count": 28,
     "metadata": {},
     "output_type": "execute_result"
    }
   ],
   "source": [
    "def compare_uplas(A,B):\n",
    "    if len(A) != len(B):\n",
    "        return False\n",
    "    \n",
    "    for a,b in zip(A,B):    \n",
    "        if a != b:\n",
    "            return False\n",
    "    return True\n",
    "\n",
    "compare_uplas([0,2,3],[0,2,3])\n",
    "compare_uplas([0,2,3],[2,0,3])"
   ]
  },
  {
   "cell_type": "markdown",
   "metadata": {},
   "source": [
    "> Considere A e be como conjuntos, O produto cartesiano de A e B, indicado por A x B, é o conjunto de todos os pares ordenados (a,b) em que a E A e b E b. assim A x B = {(a,b) | a E A ^ b E B}"
   ]
  },
  {
   "cell_type": "code",
   "execution_count": 29,
   "metadata": {},
   "outputs": [
    {
     "data": {
      "text/plain": [
       "[[[0, 'A'], [1, 'A']], [[0, 'B'], [1, 'B']], [[0, 'C'], [1, 'C']]]"
      ]
     },
     "execution_count": 29,
     "metadata": {},
     "output_type": "execute_result"
    }
   ],
   "source": [
    "produto_cartesiano = lambda A, B : [[[a, b] for a in A] for b in B]\n",
    "\n",
    "produto_cartesiano([0,1], ['A','B','C'])"
   ]
  },
  {
   "cell_type": "markdown",
   "metadata": {},
   "source": [
    "### Conjuntos e quantificadores\n",
    "Dados um predicado P e um dominio D, definimos o conjunto-verdade de P como o conjunto de elesmentos x em D para que P(x) seja verdadeira. O conjunto-verdade de P(x) é indicado por { x E D | P}\n",
    "Quais são os conjuntos verdades dos predicados P(x), Q(x) e R(x), em que o dominio é o conjunto dos numeros inteiros e P(x) é |x| = 1, Q(x) é x²= 2, e R(x) é |x| = x. para x entre -1000 e 1000."
   ]
  },
  {
   "cell_type": "code",
   "execution_count": 30,
   "metadata": {
    "scrolled": true
   },
   "outputs": [
    {
     "name": "stdout",
     "output_type": "stream",
     "text": [
      "[-1, 1]\n",
      "[]\n",
      "[0, 1, 2, 3, 4, 5, 6, 7, 8, 9, 10, 11, 12, 13, 14, 15, 16, 17, 18, 19, 20, 21, 22, 23, 24, 25, 26, 27, 28, 29, 30, 31, 32, 33, 34, 35, 36, 37, 38, 39, 40, 41, 42, 43, 44, 45, 46, 47, 48, 49, 50, 51, 52, 53, 54, 55, 56, 57, 58, 59, 60, 61, 62, 63, 64, 65, 66, 67, 68, 69, 70, 71, 72, 73, 74, 75, 76, 77, 78, 79, 80, 81, 82, 83, 84, 85, 86, 87, 88, 89, 90, 91, 92, 93, 94, 95, 96, 97, 98, 99, 100, 101, 102, 103, 104, 105, 106, 107, 108, 109, 110, 111, 112, 113, 114, 115, 116, 117, 118, 119, 120, 121, 122, 123, 124, 125, 126, 127, 128, 129, 130, 131, 132, 133, 134, 135, 136, 137, 138, 139, 140, 141, 142, 143, 144, 145, 146, 147, 148, 149, 150, 151, 152, 153, 154, 155, 156, 157, 158, 159, 160, 161, 162, 163, 164, 165, 166, 167, 168, 169, 170, 171, 172, 173, 174, 175, 176, 177, 178, 179, 180, 181, 182, 183, 184, 185, 186, 187, 188, 189, 190, 191, 192, 193, 194, 195, 196, 197, 198, 199, 200, 201, 202, 203, 204, 205, 206, 207, 208, 209, 210, 211, 212, 213, 214, 215, 216, 217, 218, 219, 220, 221, 222, 223, 224, 225, 226, 227, 228, 229, 230, 231, 232, 233, 234, 235, 236, 237, 238, 239, 240, 241, 242, 243, 244, 245, 246, 247, 248, 249, 250, 251, 252, 253, 254, 255, 256, 257, 258, 259, 260, 261, 262, 263, 264, 265, 266, 267, 268, 269, 270, 271, 272, 273, 274, 275, 276, 277, 278, 279, 280, 281, 282, 283, 284, 285, 286, 287, 288, 289, 290, 291, 292, 293, 294, 295, 296, 297, 298, 299, 300, 301, 302, 303, 304, 305, 306, 307, 308, 309, 310, 311, 312, 313, 314, 315, 316, 317, 318, 319, 320, 321, 322, 323, 324, 325, 326, 327, 328, 329, 330, 331, 332, 333, 334, 335, 336, 337, 338, 339, 340, 341, 342, 343, 344, 345, 346, 347, 348, 349, 350, 351, 352, 353, 354, 355, 356, 357, 358, 359, 360, 361, 362, 363, 364, 365, 366, 367, 368, 369, 370, 371, 372, 373, 374, 375, 376, 377, 378, 379, 380, 381, 382, 383, 384, 385, 386, 387, 388, 389, 390, 391, 392, 393, 394, 395, 396, 397, 398, 399, 400, 401, 402, 403, 404, 405, 406, 407, 408, 409, 410, 411, 412, 413, 414, 415, 416, 417, 418, 419, 420, 421, 422, 423, 424, 425, 426, 427, 428, 429, 430, 431, 432, 433, 434, 435, 436, 437, 438, 439, 440, 441, 442, 443, 444, 445, 446, 447, 448, 449, 450, 451, 452, 453, 454, 455, 456, 457, 458, 459, 460, 461, 462, 463, 464, 465, 466, 467, 468, 469, 470, 471, 472, 473, 474, 475, 476, 477, 478, 479, 480, 481, 482, 483, 484, 485, 486, 487, 488, 489, 490, 491, 492, 493, 494, 495, 496, 497, 498, 499, 500, 501, 502, 503, 504, 505, 506, 507, 508, 509, 510, 511, 512, 513, 514, 515, 516, 517, 518, 519, 520, 521, 522, 523, 524, 525, 526, 527, 528, 529, 530, 531, 532, 533, 534, 535, 536, 537, 538, 539, 540, 541, 542, 543, 544, 545, 546, 547, 548, 549, 550, 551, 552, 553, 554, 555, 556, 557, 558, 559, 560, 561, 562, 563, 564, 565, 566, 567, 568, 569, 570, 571, 572, 573, 574, 575, 576, 577, 578, 579, 580, 581, 582, 583, 584, 585, 586, 587, 588, 589, 590, 591, 592, 593, 594, 595, 596, 597, 598, 599, 600, 601, 602, 603, 604, 605, 606, 607, 608, 609, 610, 611, 612, 613, 614, 615, 616, 617, 618, 619, 620, 621, 622, 623, 624, 625, 626, 627, 628, 629, 630, 631, 632, 633, 634, 635, 636, 637, 638, 639, 640, 641, 642, 643, 644, 645, 646, 647, 648, 649, 650, 651, 652, 653, 654, 655, 656, 657, 658, 659, 660, 661, 662, 663, 664, 665, 666, 667, 668, 669, 670, 671, 672, 673, 674, 675, 676, 677, 678, 679, 680, 681, 682, 683, 684, 685, 686, 687, 688, 689, 690, 691, 692, 693, 694, 695, 696, 697, 698, 699, 700, 701, 702, 703, 704, 705, 706, 707, 708, 709, 710, 711, 712, 713, 714, 715, 716, 717, 718, 719, 720, 721, 722, 723, 724, 725, 726, 727, 728, 729, 730, 731, 732, 733, 734, 735, 736, 737, 738, 739, 740, 741, 742, 743, 744, 745, 746, 747, 748, 749, 750, 751, 752, 753, 754, 755, 756, 757, 758, 759, 760, 761, 762, 763, 764, 765, 766, 767, 768, 769, 770, 771, 772, 773, 774, 775, 776, 777, 778, 779, 780, 781, 782, 783, 784, 785, 786, 787, 788, 789, 790, 791, 792, 793, 794, 795, 796, 797, 798, 799, 800, 801, 802, 803, 804, 805, 806, 807, 808, 809, 810, 811, 812, 813, 814, 815, 816, 817, 818, 819, 820, 821, 822, 823, 824, 825, 826, 827, 828, 829, 830, 831, 832, 833, 834, 835, 836, 837, 838, 839, 840, 841, 842, 843, 844, 845, 846, 847, 848, 849, 850, 851, 852, 853, 854, 855, 856, 857, 858, 859, 860, 861, 862, 863, 864, 865, 866, 867, 868, 869, 870, 871, 872, 873, 874, 875, 876, 877, 878, 879, 880, 881, 882, 883, 884, 885, 886, 887, 888, 889, 890, 891, 892, 893, 894, 895, 896, 897, 898, 899, 900, 901, 902, 903, 904, 905, 906, 907, 908, 909, 910, 911, 912, 913, 914, 915, 916, 917, 918, 919, 920, 921, 922, 923, 924, 925, 926, 927, 928, 929, 930, 931, 932, 933, 934, 935, 936, 937, 938, 939, 940, 941, 942, 943, 944, 945, 946, 947, 948, 949, 950, 951, 952, 953, 954, 955, 956, 957, 958, 959, 960, 961, 962, 963, 964, 965, 966, 967, 968, 969, 970, 971, 972, 973, 974, 975, 976, 977, 978, 979, 980, 981, 982, 983, 984, 985, 986, 987, 988, 989, 990, 991, 992, 993, 994, 995, 996, 997, 998, 999]\n"
     ]
    }
   ],
   "source": [
    "P = []\n",
    "Q = []\n",
    "R = []\n",
    "for x in range(-1000, 1000):\n",
    "    if abs(x) == 1:\n",
    "        P.append(x)\n",
    "    \n",
    "    if x ** 2 == 2:\n",
    "        Q.append(x)\n",
    "    \n",
    "    if abs(x) == x:\n",
    "        R.append(x)\n",
    "\n",
    "print(P)\n",
    "print(Q)\n",
    "print(R)"
   ]
  },
  {
   "cell_type": "markdown",
   "metadata": {},
   "source": [
    "### 2.2 Operações com conjuntos\n",
    "Sejam A e B conjuntos. A união dos conjuntos A e B, é indicada por  A U B, é o conjunto que contem aqueles elementos que estão em A ou em B, ou em ambos.\n"
   ]
  },
  {
   "cell_type": "code",
   "execution_count": 31,
   "metadata": {},
   "outputs": [
    {
     "data": {
      "text/plain": [
       "[0, 1, 2, 3, 4]"
      ]
     },
     "execution_count": 31,
     "metadata": {},
     "output_type": "execute_result"
    }
   ],
   "source": [
    "def uniao(A, B):\n",
    "    x = A[:]\n",
    "    x.extend(B)\n",
    "    U = []\n",
    "    for e in (x):\n",
    "        if e not in U:\n",
    "            U.append(e)\n",
    "    \n",
    "    return U\n",
    "A = [0,1,2]\n",
    "B = [2,3,4]\n",
    "uniao(A, B)"
   ]
  },
  {
   "cell_type": "markdown",
   "metadata": {},
   "source": [
    "> **Definição:** Sejam A e B conjuntos. A interseção dos conjuntos A e B, indicada por A \\bigcap B, é o conjunto que contem aqueles elementos que estão em A e em B, simultaneamente"
   ]
  },
  {
   "cell_type": "code",
   "execution_count": 32,
   "metadata": {},
   "outputs": [
    {
     "data": {
      "text/plain": [
       "[2]"
      ]
     },
     "execution_count": 32,
     "metadata": {},
     "output_type": "execute_result"
    }
   ],
   "source": [
    "def intersecao(A, B):\n",
    "    U = uniao(A,B)\n",
    "    intersec = []    \n",
    "    for e in U:\n",
    "        if e in A and e in B:\n",
    "            intersec.append(e)\n",
    "    \n",
    "    return intersec\n",
    "\n",
    "A = [0,1,2]\n",
    "B = [2,3,4]\n",
    "\n",
    "intersecao(A,B)"
   ]
  },
  {
   "cell_type": "markdown",
   "metadata": {},
   "source": [
    "> Dois conjuntos são chamados disjuntos se sua intersecção é um conjunto vazio"
   ]
  },
  {
   "cell_type": "code",
   "execution_count": 33,
   "metadata": {},
   "outputs": [
    {
     "data": {
      "text/plain": [
       "False"
      ]
     },
     "execution_count": 33,
     "metadata": {},
     "output_type": "execute_result"
    },
    {
     "data": {
      "text/plain": [
       "True"
      ]
     },
     "execution_count": 33,
     "metadata": {},
     "output_type": "execute_result"
    }
   ],
   "source": [
    "disjuntos = lambda A,B : not len(intersecao(A,B))\n",
    "\n",
    "disjuntos([2,3,4],[0,1,2])\n",
    "disjuntos([2,3,4],[7,8,9])"
   ]
  },
  {
   "cell_type": "markdown",
   "metadata": {},
   "source": [
    "> **Definição:** Sejam A e B conjuntos. A diferença entre A e B, indicada por A - B, é o conjunto que contem aqueles elementos que estão em A mas não estão em B. A diferença é tambem chamada de complemento de B em relação a A"
   ]
  },
  {
   "cell_type": "code",
   "execution_count": 34,
   "metadata": {},
   "outputs": [
    {
     "data": {
      "text/plain": [
       "[0, 4]"
      ]
     },
     "execution_count": 34,
     "metadata": {},
     "output_type": "execute_result"
    }
   ],
   "source": [
    "def diferenca(A,B):\n",
    "    dif = []\n",
    "    for a in A:\n",
    "        if a not in B:\n",
    "            dif.append(a)\n",
    "    return dif\n",
    "\n",
    "diferenca([0,1,2, 4], [1,2,3])"
   ]
  },
  {
   "cell_type": "markdown",
   "metadata": {},
   "source": [
    "> Considere U como o conjunto universo. O complemento do conjunto A, indicado por Ã, é o conjunto complemento de A em relação a U. em outras palavras, o complemento do  conjunto A é U - A"
   ]
  },
  {
   "cell_type": "code",
   "execution_count": 36,
   "metadata": {},
   "outputs": [
    {
     "data": {
      "text/plain": [
       "[4, 5, 6, 7, 8]"
      ]
     },
     "execution_count": 36,
     "metadata": {},
     "output_type": "execute_result"
    }
   ],
   "source": [
    "complemento = lambda A, U : diferenca(U, A)\n",
    "\n",
    "A = [0,1,2,3]\n",
    "U = [0,1,2,3,4,5,6, 7,8]\n",
    "B = [8,3,2]\n",
    "C = [5,6]\n",
    "complemento(A, U)"
   ]
  },
  {
   "cell_type": "markdown",
   "metadata": {},
   "source": [
    "### Propriedade dos elementos neutros"
   ]
  },
  {
   "cell_type": "code",
   "execution_count": 37,
   "metadata": {},
   "outputs": [
    {
     "data": {
      "text/plain": [
       "True"
      ]
     },
     "execution_count": 37,
     "metadata": {},
     "output_type": "execute_result"
    },
    {
     "data": {
      "text/plain": [
       "True"
      ]
     },
     "execution_count": 37,
     "metadata": {},
     "output_type": "execute_result"
    }
   ],
   "source": [
    "uniao(A, []) == A\n",
    "intersecao(A,U) == A"
   ]
  },
  {
   "cell_type": "markdown",
   "metadata": {},
   "source": [
    "### Propriedade de dominação\n"
   ]
  },
  {
   "cell_type": "code",
   "execution_count": 38,
   "metadata": {},
   "outputs": [
    {
     "data": {
      "text/plain": [
       "True"
      ]
     },
     "execution_count": 38,
     "metadata": {},
     "output_type": "execute_result"
    },
    {
     "data": {
      "text/plain": [
       "True"
      ]
     },
     "execution_count": 38,
     "metadata": {},
     "output_type": "execute_result"
    }
   ],
   "source": [
    "uniao(A,U) == U\n",
    "intersecao(A, []) == []"
   ]
  },
  {
   "cell_type": "markdown",
   "metadata": {},
   "source": [
    "### Propriedades idempotentes"
   ]
  },
  {
   "cell_type": "code",
   "execution_count": 42,
   "metadata": {},
   "outputs": [
    {
     "data": {
      "text/plain": [
       "True"
      ]
     },
     "execution_count": 42,
     "metadata": {},
     "output_type": "execute_result"
    },
    {
     "data": {
      "text/plain": [
       "True"
      ]
     },
     "execution_count": 42,
     "metadata": {},
     "output_type": "execute_result"
    }
   ],
   "source": [
    "uniao(A,A) == A\n",
    "intersecao(A, A) ==  A"
   ]
  },
  {
   "cell_type": "markdown",
   "metadata": {},
   "source": [
    "### Propriedade da complementação"
   ]
  },
  {
   "cell_type": "code",
   "execution_count": 43,
   "metadata": {},
   "outputs": [
    {
     "data": {
      "text/plain": [
       "True"
      ]
     },
     "execution_count": 43,
     "metadata": {},
     "output_type": "execute_result"
    }
   ],
   "source": [
    "complemento(complemento(A, U), U) == A"
   ]
  },
  {
   "cell_type": "markdown",
   "metadata": {},
   "source": [
    "### Propriedades Comutativas"
   ]
  },
  {
   "cell_type": "code",
   "execution_count": 44,
   "metadata": {},
   "outputs": [
    {
     "data": {
      "text/plain": [
       "False"
      ]
     },
     "execution_count": 44,
     "metadata": {},
     "output_type": "execute_result"
    },
    {
     "data": {
      "text/plain": [
       "False"
      ]
     },
     "execution_count": 44,
     "metadata": {},
     "output_type": "execute_result"
    }
   ],
   "source": [
    "uniao(A, B) == uniao(U, B)\n",
    "intersecao(A, B) == intersecao(U, B)"
   ]
  },
  {
   "cell_type": "markdown",
   "metadata": {},
   "source": [
    "### Propriedades associativas"
   ]
  },
  {
   "cell_type": "code",
   "execution_count": 45,
   "metadata": {},
   "outputs": [
    {
     "data": {
      "text/plain": [
       "True"
      ]
     },
     "execution_count": 45,
     "metadata": {},
     "output_type": "execute_result"
    },
    {
     "data": {
      "text/plain": [
       "True"
      ]
     },
     "execution_count": 45,
     "metadata": {},
     "output_type": "execute_result"
    }
   ],
   "source": [
    "uniao(A, uniao(B, C)) == uniao(uniao(A, B), C)\n",
    "intersecao(A, intersecao(B, C)) == intersecao(intersecao(A, B), C)"
   ]
  },
  {
   "cell_type": "markdown",
   "metadata": {},
   "source": [
    "### Propriedadees distributivas"
   ]
  },
  {
   "cell_type": "code",
   "execution_count": 46,
   "metadata": {},
   "outputs": [
    {
     "data": {
      "text/plain": [
       "True"
      ]
     },
     "execution_count": 46,
     "metadata": {},
     "output_type": "execute_result"
    },
    {
     "data": {
      "text/plain": [
       "True"
      ]
     },
     "execution_count": 46,
     "metadata": {},
     "output_type": "execute_result"
    }
   ],
   "source": [
    "intersecao(A, uniao(B, C)) == uniao(intersecao(A, B), intersecao(A, C))\n",
    "uniao(A, intersecao(B, C)) == intersecao(uniao(A, B), uniao(A, C))"
   ]
  },
  {
   "cell_type": "markdown",
   "metadata": {},
   "source": [
    "### Leis de morgan"
   ]
  },
  {
   "cell_type": "code",
   "execution_count": 47,
   "metadata": {},
   "outputs": [
    {
     "data": {
      "text/plain": [
       "True"
      ]
     },
     "execution_count": 47,
     "metadata": {},
     "output_type": "execute_result"
    },
    {
     "data": {
      "text/plain": [
       "True"
      ]
     },
     "execution_count": 47,
     "metadata": {},
     "output_type": "execute_result"
    }
   ],
   "source": [
    "complemento(uniao(A, B), U) == intersecao(complemento(A, U), complemento(B, U))\n",
    "intersecao(complemento(A, U), complemento(B, U)) == complemento(uniao(A, B), U)\n"
   ]
  },
  {
   "cell_type": "markdown",
   "metadata": {},
   "source": [
    "### propriedades da absorção \n"
   ]
  },
  {
   "cell_type": "code",
   "execution_count": 48,
   "metadata": {},
   "outputs": [
    {
     "data": {
      "text/plain": [
       "True"
      ]
     },
     "execution_count": 48,
     "metadata": {},
     "output_type": "execute_result"
    },
    {
     "data": {
      "text/plain": [
       "True"
      ]
     },
     "execution_count": 48,
     "metadata": {},
     "output_type": "execute_result"
    }
   ],
   "source": [
    "uniao(A,intersecao(A,B)) == A\n",
    "intersecao(A,uniao(A,B)) == A"
   ]
  },
  {
   "cell_type": "markdown",
   "metadata": {},
   "source": [
    "### propriedades dos complementares"
   ]
  },
  {
   "cell_type": "code",
   "execution_count": 49,
   "metadata": {},
   "outputs": [
    {
     "data": {
      "text/plain": [
       "True"
      ]
     },
     "execution_count": 49,
     "metadata": {},
     "output_type": "execute_result"
    },
    {
     "data": {
      "text/plain": [
       "True"
      ]
     },
     "execution_count": 49,
     "metadata": {},
     "output_type": "execute_result"
    }
   ],
   "source": [
    "uniao(A, complemento(A, U)) == U\n",
    "intersecao(A, complemento(A, U)) == []"
   ]
  },
  {
   "cell_type": "markdown",
   "metadata": {},
   "source": [
    "### 2.3 Funções\n",
    "Em muitos momentos delimitamos, para cada elemento do conjunto, um determinado elemento de um segundo conjunto(o qual pode ser o mesmo do primeiro).\n",
    "\n",
    "> Sejam A e B conjuntos não vazios. Uma função f de A para B é uma determinação de exatamente um elemento de B para cada elemento de A. Escrevemos f(a) = b se b for o unico elemento de B determinado pela função f para o elemento a de A. se f é uma função de A para B, escrevemos f : B -> B.\n",
    "\n",
    ".\n",
    "\n",
    "> Se f é uma função de A para B, dizemos que A é o dominio de f e B é o contra dominio de f. Se f(a) = b, dizemos que b é a imagem de a e a é a imagem inversa de b. A imagem de f é o conjunto com todas as imagens dos elementos de A. Além disso, se f é uma função de A para B, dizemos que f mapeia A para B.\n",
    "\n",
    "\n",
    "Considere  A como o conjunto dos alunos de uma classe e B, como o conjunto de notas, e \"nota\" como a função que atribui uma nota para cada aluno."
   ]
  },
  {
   "cell_type": "code",
   "execution_count": 50,
   "metadata": {},
   "outputs": [
    {
     "data": {
      "text/plain": [
       "{'ADAMS': 'A',\n",
       " 'CHOU': 'B',\n",
       " 'GOODFRIEND': 'C',\n",
       " 'RODRIGUES': 'D',\n",
       " 'SILVA': 'F',\n",
       " 'STEEVENS': 'E'}"
      ]
     },
     "execution_count": 50,
     "metadata": {},
     "output_type": "execute_result"
    }
   ],
   "source": [
    "nota  = lambda A,B : {a : b for a,b in zip(A,B)}\n",
    "A = [\"ADAMS\", \"CHOU\" , \"GOODFRIEND\" , \"RODRIGUES\", \"STEEVENS\", \"SILVA\"]\n",
    "B = [\"A\", \"B\", \"C\", \"D\" , \"E\", \"F\"]\n",
    "\n",
    "nota(A,B)"
   ]
  },
  {
   "cell_type": "code",
   "execution_count": 51,
   "metadata": {},
   "outputs": [
    {
     "data": {
      "text/plain": [
       "True"
      ]
     },
     "execution_count": 51,
     "metadata": {},
     "output_type": "execute_result"
    }
   ],
   "source": [
    "dominio = lambda G : list(G.keys())\n",
    "\n",
    "dominio(nota(A,B)) == A"
   ]
  },
  {
   "cell_type": "code",
   "execution_count": 52,
   "metadata": {},
   "outputs": [
    {
     "data": {
      "text/plain": [
       "True"
      ]
     },
     "execution_count": 52,
     "metadata": {},
     "output_type": "execute_result"
    }
   ],
   "source": [
    "contradominio = lambda G : list(G.values())\n",
    "contradominio(nota(A,B)) == B"
   ]
  },
  {
   "cell_type": "markdown",
   "metadata": {},
   "source": [
    "> **Definição :** Sejam f1 e f2 funções de A para R. então, f1 + f2 e f1f2 tambesm são funções de a para R definidas por \n",
    "(f1 + f2)(x) == f1(x) + f1(x) \n",
    "f1f2(x) = f1(x)f2(x)"
   ]
  },
  {
   "cell_type": "code",
   "execution_count": 53,
   "metadata": {},
   "outputs": [
    {
     "data": {
      "text/plain": [
       "1"
      ]
     },
     "execution_count": 53,
     "metadata": {},
     "output_type": "execute_result"
    },
    {
     "data": {
      "text/plain": [
       "0"
      ]
     },
     "execution_count": 53,
     "metadata": {},
     "output_type": "execute_result"
    }
   ],
   "source": [
    "f1 = lambda x : x ** 2\n",
    "f2 = lambda x : x - x**2\n",
    "x =1\n",
    "\n",
    "f1(x) + f2(x) \n",
    "\n",
    "f1(f2(x))"
   ]
  },
  {
   "cell_type": "markdown",
   "metadata": {},
   "source": [
    "### Funções Injetoras e Sobrejetoras\n",
    "Algumas funções nunca determinam o mesmo valor para dois elementos diferentes no dominio. Essas funções são chamadas de injetoras.\n",
    "\n",
    ">**Definição:** uma função f é chamada de injetora, ou um para um, se e somente se f(a) = f(b) implica que a = b, para todos os a e b do dominio de f. Uma função pode ser chamada de injeção se for de um para um."
   ]
  },
  {
   "cell_type": "code",
   "execution_count": 54,
   "metadata": {},
   "outputs": [
    {
     "data": {
      "text/plain": [
       "True"
      ]
     },
     "execution_count": 54,
     "metadata": {},
     "output_type": "execute_result"
    },
    {
     "data": {
      "text/plain": [
       "False"
      ]
     },
     "execution_count": 54,
     "metadata": {},
     "output_type": "execute_result"
    }
   ],
   "source": [
    "f = lambda x : x ** 2\n",
    "\n",
    "a = -1\n",
    "b = 1\n",
    "f(a) == f(b)\n",
    "a == b"
   ]
  },
  {
   "cell_type": "markdown",
   "metadata": {},
   "source": [
    "A função \\(f\\)(x) não é injetora pois \\(∀\\)a\\(∀\\)b (\\(f\\)(a) = \\(f\\)(b) -> a = b) não é verdadeira"
   ]
  },
  {
   "cell_type": "code",
   "execution_count": 55,
   "metadata": {},
   "outputs": [
    {
     "data": {
      "text/plain": [
       "False"
      ]
     },
     "execution_count": 55,
     "metadata": {},
     "output_type": "execute_result"
    },
    {
     "data": {
      "text/plain": [
       "False"
      ]
     },
     "execution_count": 55,
     "metadata": {},
     "output_type": "execute_result"
    }
   ],
   "source": [
    "Q = lambda x: x + 1\n",
    "\n",
    "a = -0\n",
    "b = 200\n",
    "Q(a) == Q(b)\n",
    "a == b"
   ]
  },
  {
   "cell_type": "markdown",
   "metadata": {},
   "source": [
    "A função Q(x) é injetora pois ∀a∀b (Q(a) ≠ Q(b) -> a ≠ b) \n",
    "\n",
    "> **Definição:** Uma função f de A para B é chamada de sobrejetora ou sobrejetiva, se e somente se para todo elemento b E B houver um elemento a E A com f(a) = b \n",
    "A função f(x) não é Sobrejetiva pois f(x) = -1 não é verdadeira para nenhum valor inteiro de x.\n",
    "\n",
    "A função  A função Q(x)  é sobrejetiva porque para cada numero inteiro y há um inteiro x, tal que Q(x) = y."
   ]
  },
  {
   "cell_type": "markdown",
   "metadata": {},
   "source": [
    "> **Definição:** A função f é bijetora, ou é uma correspondência um para um se for injetora e sobrejetora.\n",
    "A função Q(x) é bijetora pois é injetora e sobrejetora.\n",
    "\n",
    "Funções inversas e Composições de funções\n",
    "> **Definição:** Seja f uma função bijetora do conjunto A para o conjunto B. A função inversa de f é a função que leva a um elemento b pertecente a B o unico elemento a em A, tal que f(a) = b.\n",
    "Uma bijeção é chamada inversível, pois podemos definir uma função inversa. Uma função é não inversivel se não é uma bijeção, porque não existe uma função inversa"
   ]
  },
  {
   "cell_type": "code",
   "execution_count": 56,
   "metadata": {},
   "outputs": [
    {
     "data": {
      "text/plain": [
       "4"
      ]
     },
     "execution_count": 56,
     "metadata": {},
     "output_type": "execute_result"
    },
    {
     "data": {
      "text/plain": [
       "2"
      ]
     },
     "execution_count": 56,
     "metadata": {},
     "output_type": "execute_result"
    },
    {
     "data": {
      "text/plain": [
       "True"
      ]
     },
     "execution_count": 56,
     "metadata": {},
     "output_type": "execute_result"
    }
   ],
   "source": [
    "Qr = lambda x: x -1\n",
    "\n",
    "x = 3\n",
    "Q(x)\n",
    "Qr(x)\n",
    "Qr(Q(x)) == x"
   ]
  },
  {
   "cell_type": "markdown",
   "metadata": {},
   "source": [
    "A função Q(x) é inversível pois existe uma função Qr(x) que é reversa de Q(x)."
   ]
  },
  {
   "cell_type": "markdown",
   "metadata": {},
   "source": [
    ">  **Definição:** Considere f como uma função do conjunto A para o conjunto B, O gráfico da função f é o conjunto de pares ordenados {(a,b) | a E A e f(a) = b}"
   ]
  },
  {
   "cell_type": "code",
   "execution_count": 58,
   "metadata": {},
   "outputs": [
    {
     "name": "stdout",
     "output_type": "stream",
     "text": [
      "[[1, 0], [2, 1], [3, 2], [4, 3], [5, 4]]\n"
     ]
    },
    {
     "data": {
      "text/plain": [
       "<matplotlib.axes._subplots.AxesSubplot at 0x7f9ccc4ee358>"
      ]
     },
     "execution_count": 58,
     "metadata": {},
     "output_type": "execute_result"
    },
    {
     "data": {
      "image/png": "[encoded data removed]",
      "text/plain": [
       "<Figure size 432x288 with 1 Axes>"
      ]
     },
     "metadata": {},
     "output_type": "display_data"
    }
   ],
   "source": [
    "import pandas as pd\n",
    "\n",
    "grafico = lambda f , r : [[f(x),x] for x in range(r[0],r[1]) ]\n",
    "g = grafico(Q, [0,5])\n",
    "\n",
    "print(g)\n",
    "\n",
    "g = pd.DataFrame(g, columns=[\"F(x)\", \"x\"])\n",
    "g.plot.line(y='F(x)', x='x')"
   ]
  },
  {
   "cell_type": "markdown",
   "metadata": {},
   "source": [
    "> A função maior inteiro menor que( tambem conhecida como chão) determina para o numero real x o maior numero inteiro menor que ou igual a x. O valor da função maior inteiro menor que em x é indicado por |x|. A função menor inteiro maior que( tambem conhecida como teto) determina para o numero real x o menor numero inteiro maior que ou igual a x. O valor da função menor inteiro maior que em x é indicado por |x|"
   ]
  },
  {
   "cell_type": "code",
   "execution_count": 59,
   "metadata": {},
   "outputs": [
    {
     "data": {
      "text/plain": [
       "1"
      ]
     },
     "execution_count": 59,
     "metadata": {},
     "output_type": "execute_result"
    },
    {
     "data": {
      "text/plain": [
       "0"
      ]
     },
     "execution_count": 59,
     "metadata": {},
     "output_type": "execute_result"
    },
    {
     "data": {
      "text/plain": [
       "-2"
      ]
     },
     "execution_count": 59,
     "metadata": {},
     "output_type": "execute_result"
    }
   ],
   "source": [
    "def chao(x):\n",
    "    if float(x).is_integer():\n",
    "        return x        \n",
    "    \n",
    "    if x < 0:\n",
    "        return int(x) - 1\n",
    "    else:\n",
    "        return int(x)\n",
    "        \n",
    "    \n",
    "chao(1)\n",
    "chao(1/2)\n",
    "chao(-1.2)"
   ]
  },
  {
   "cell_type": "code",
   "execution_count": 60,
   "metadata": {},
   "outputs": [
    {
     "data": {
      "text/plain": [
       "0"
      ]
     },
     "execution_count": 60,
     "metadata": {},
     "output_type": "execute_result"
    },
    {
     "data": {
      "text/plain": [
       "6"
      ]
     },
     "execution_count": 60,
     "metadata": {},
     "output_type": "execute_result"
    },
    {
     "data": {
      "text/plain": [
       "2"
      ]
     },
     "execution_count": 60,
     "metadata": {},
     "output_type": "execute_result"
    }
   ],
   "source": [
    "def teto(x):\n",
    "    if float(x).is_integer():\n",
    "        return x        \n",
    "    \n",
    "    if x > 0:\n",
    "        return int(x) + 1\n",
    "    else:\n",
    "        return int(x)\n",
    "        \n",
    "\n",
    "teto(- 0.5)\n",
    "teto(6)\n",
    "teto(1.5)"
   ]
  },
  {
   "cell_type": "markdown",
   "metadata": {},
   "source": [
    "2.2. Sequências e Somatórios\n",
    "> Uma sequencia é uma função de um subconjunto do conjunto dos numeros inteiros(geralmente ou do conjunto {,0,1,2,3 ...} ou do conjunto {1,2,3,...}) para um conjunto S. Usamos a notação an para indicar a imagem do numero inteiro n, Chamamos an de termo da sequencia."
   ]
  },
  {
   "cell_type": "code",
   "execution_count": 61,
   "metadata": {},
   "outputs": [
    {
     "data": {
      "text/plain": [
       "[11, 12, 13, 14, 15, 16, 17, 18, 19]"
      ]
     },
     "execution_count": 61,
     "metadata": {},
     "output_type": "execute_result"
    },
    {
     "data": {
      "text/plain": [
       "[2.0,\n",
       " 1.0,\n",
       " 0.6666666666666666,\n",
       " 0.5,\n",
       " 0.4,\n",
       " 0.3333333333333333,\n",
       " 0.2857142857142857,\n",
       " 0.25,\n",
       " 0.2222222222222222]"
      ]
     },
     "execution_count": 61,
     "metadata": {},
     "output_type": "execute_result"
    },
    {
     "data": {
      "text/plain": [
       "[3, 6, 9, 12, 15, 18, 21, 24, 27]"
      ]
     },
     "execution_count": 61,
     "metadata": {},
     "output_type": "execute_result"
    }
   ],
   "source": [
    "soma = lambda x, y : x  + y        \n",
    "divisao = lambda x, y : x / y\n",
    "multiplicacao = lambda x , y : x * y\n",
    "\n",
    "sequencia = lambda f, x : [f(x, i) for i in range (1,10)]\n",
    "\n",
    "\n",
    "\n",
    "sequencia(soma, 10)\n",
    "sequencia(divisao, 2)\n",
    "sequencia(multiplicacao, 3)"
   ]
  },
  {
   "cell_type": "markdown",
   "metadata": {},
   "source": [
    "> **Definição:** Uma progressão geométrica é uma sequencia na forma a,ar,ar² em que o termo inicial a e a razão r são numeros reais."
   ]
  },
  {
   "cell_type": "code",
   "execution_count": 62,
   "metadata": {},
   "outputs": [
    {
     "data": {
      "text/plain": [
       "[1, -1, 1, -1, 1, -1, 1, -1, 1, -1]"
      ]
     },
     "execution_count": 62,
     "metadata": {},
     "output_type": "execute_result"
    },
    {
     "data": {
      "text/plain": [
       "[2, 10, 50, 250, 1250, 6250, 31250, 156250, 781250, 3906250]"
      ]
     },
     "execution_count": 62,
     "metadata": {},
     "output_type": "execute_result"
    },
    {
     "data": {
      "text/plain": [
       "[6.0,\n",
       " 2.0,\n",
       " 0.6666666666666666,\n",
       " 0.22222222222222215,\n",
       " 0.07407407407407406,\n",
       " 0.02469135802469135,\n",
       " 0.008230452674897117,\n",
       " 0.0027434842249657054,\n",
       " 0.000914494741655235,\n",
       " 0.000304831580551745]"
      ]
     },
     "execution_count": 62,
     "metadata": {},
     "output_type": "execute_result"
    }
   ],
   "source": [
    "pg = lambda a, r : [a * r ** n for n in range(10)]\n",
    "\n",
    "pg(1,-1)\n",
    "pg(2,5)\n",
    "pg(6,1/3)"
   ]
  },
  {
   "cell_type": "markdown",
   "metadata": {},
   "source": [
    "> **Definição:** Uma progressão aritimética é uma sequencia da forma a,a + d, a + 2d, ...., a + nd .... em que o termo inicial e a diferença ou razão d são numeros reais"
   ]
  },
  {
   "cell_type": "code",
   "execution_count": 63,
   "metadata": {},
   "outputs": [
    {
     "data": {
      "text/plain": [
       "[-1, 3, 7, 11, 15, 19, 23, 27, 31, 35]"
      ]
     },
     "execution_count": 63,
     "metadata": {},
     "output_type": "execute_result"
    },
    {
     "data": {
      "text/plain": [
       "[7, 4, 1, -2, -5, -8, -11, -14, -17, -20]"
      ]
     },
     "execution_count": 63,
     "metadata": {},
     "output_type": "execute_result"
    }
   ],
   "source": [
    "pa = lambda a, r : [a + (n * r) for n in range(10)]\n",
    "\n",
    "pa(-1,4)\n",
    "pa(7,-3)"
   ]
  },
  {
   "cell_type": "markdown",
   "metadata": {},
   "source": [
    "### Somatórios"
   ]
  },
  {
   "cell_type": "code",
   "execution_count": 64,
   "metadata": {},
   "outputs": [
    {
     "data": {
      "text/plain": [
       "[1, 4, 9, 16, 25]"
      ]
     },
     "execution_count": 64,
     "metadata": {},
     "output_type": "execute_result"
    }
   ],
   "source": [
    "quadrado = lambda x : x *x\n",
    "\n",
    "somatorio = lambda f, i, l : [f(x) for x in range(i,l + 1)]\n",
    "somatorio(quadrado, 1, 5)\n"
   ]
  }
 ],
 "metadata": {
  "kernelspec": {
   "display_name": "Python 3",
   "language": "python",
   "name": "python3"
  },
  "language_info": {
   "codemirror_mode": {
    "name": "ipython",
    "version": 3
   },
   "file_extension": ".py",
   "mimetype": "text/x-python",
   "name": "python",
   "nbconvert_exporter": "python",
   "pygments_lexer": "ipython3",
   "version": "3.6.7"
  }
 },
 "nbformat": 4,
 "nbformat_minor": 2
}
